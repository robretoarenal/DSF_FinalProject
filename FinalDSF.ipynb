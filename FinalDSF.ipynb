{
  "nbformat": 4,
  "nbformat_minor": 0,
  "metadata": {
    "colab": {
      "name": "FinalDSF.ipynb",
      "provenance": [],
      "collapsed_sections": [
        "Yk4YvVMVUl3Q",
        "3oVv_uageT9A",
        "OGkZH4vOpB1F",
        "j1BVGN9nko_g",
        "z9xgoEGFvXmC",
        "WvjvNn6m6w1z",
        "wIOv5KpV9KfZ",
        "OVExmwnBd644",
        "s2RmdVDHo-fc",
        "-QUNB4CStQ_m",
        "go3hVnIhJDay",
        "4A2iGQz2irb5",
        "mx-b-RIE_rYt"
      ],
      "toc_visible": true
    },
    "kernelspec": {
      "name": "python3",
      "display_name": "Python 3"
    }
  },
  "cells": [
    {
      "cell_type": "markdown",
      "metadata": {
        "id": "yVwe5wF1Sg50"
      },
      "source": [
        "**DSF Final Project (Barcelona Technology School)**\r\n",
        "\r\n",
        "By: Roberto Arenal \r\n",
        "\r\n",
        "Data from: \r\n",
        "- https://projects.fivethirtyeight.com/2020-nfl-predictions/\r\n",
        "\r\n",
        "- https://www.kaggle.com/tobycrabtree/nfl-scores-and-betting-data\r\n"
      ]
    },
    {
      "cell_type": "markdown",
      "metadata": {
        "id": "l8yRzP3cTu_4"
      },
      "source": [
        "This project has the intention of giving a prediction of the probability of winning for each game of the actual week of the NFL. "
      ]
    },
    {
      "cell_type": "code",
      "metadata": {
        "id": "6xQ1La-DiusZ"
      },
      "source": [
        "import pandas as pd\r\n",
        "import numpy as np\r\n",
        "import datetime"
      ],
      "execution_count": null,
      "outputs": []
    },
    {
      "cell_type": "code",
      "metadata": {
        "id": "dyVBYnIKjmEq"
      },
      "source": [
        "from sklearn import model_selection\r\n",
        "from sklearn.tree import DecisionTreeClassifier\r\n",
        "from sklearn.ensemble import RandomForestClassifier, AdaBoostClassifier, VotingClassifier\r\n",
        "import xgboost as xgb\r\n",
        "import pickle\r\n",
        "import os\r\n",
        "import tarfile\r\n",
        "import urllib.request"
      ],
      "execution_count": null,
      "outputs": []
    },
    {
      "cell_type": "markdown",
      "metadata": {
        "id": "S5tGnUyxRM2T"
      },
      "source": [
        "Data is retreived from the FiveThirtyEight web site. Which is a site focused on the analysis of data from different topics. What is of our concern, is the NFL games statistics that this website provides publicly and updates it each week. \r\n",
        "\r\n",
        "This site provides us the famous **ELO rating system**, which is a method for calculating the relative skill levels of players. If this rating has a considerable correlation with the results, we are using it as our base feature for our prediction model. "
      ]
    },
    {
      "cell_type": "markdown",
      "metadata": {
        "id": "Yk4YvVMVUl3Q"
      },
      "source": [
        "#Data Collection and exploration"
      ]
    },
    {
      "cell_type": "code",
      "metadata": {
        "id": "9AP2y4zXkx2X"
      },
      "source": [
        "GAMES_ELO_URL = 'https://projects.fivethirtyeight.com/nfl-api/nfl_elo.csv'\r\n",
        "DOWNLOAD_ROOT = \"https://raw.githubusercontent.com/robretoarenal/DSF_FinalProject/main/\"\r\n",
        "TEAMS_URL = DOWNLOAD_ROOT + \"datasets/nfl_teams.csv\"\r\n",
        "DS_PATH = os.path.join(\"Data\")"
      ],
      "execution_count": null,
      "outputs": []
    },
    {
      "cell_type": "code",
      "metadata": {
        "id": "qqnIjELdlYmz"
      },
      "source": [
        "def fetch_data(teams_url=TEAMS_URL, ds_path=DS_PATH):\r\n",
        "  if not os.path.isdir(ds_path):\r\n",
        "        os.makedirs(ds_path)\r\n",
        "\r\n",
        "  teams_path = os.path.join(ds_path,'nfl_teams.csv')\r\n",
        "  urllib.request.urlretrieve(teams_url, teams_path)"
      ],
      "execution_count": null,
      "outputs": []
    },
    {
      "cell_type": "code",
      "metadata": {
        "id": "3k_zTtrmlS54"
      },
      "source": [
        "df=pd.read_csv(GAMES_ELO_URL)\r\n",
        "fetch_data()#We will use the nfl_teams.csv data later to merge with df"
      ],
      "execution_count": null,
      "outputs": []
    },
    {
      "cell_type": "code",
      "metadata": {
        "id": "MMDjgCKKlHSy",
        "colab": {
          "base_uri": "https://localhost:8080/",
          "height": 301
        },
        "outputId": "84b45a9d-5730-4429-d084-36f2413e0ca0"
      },
      "source": [
        "df.head()"
      ],
      "execution_count": null,
      "outputs": [
        {
          "output_type": "execute_result",
          "data": {
            "text/html": [
              "<div>\n",
              "<style scoped>\n",
              "    .dataframe tbody tr th:only-of-type {\n",
              "        vertical-align: middle;\n",
              "    }\n",
              "\n",
              "    .dataframe tbody tr th {\n",
              "        vertical-align: top;\n",
              "    }\n",
              "\n",
              "    .dataframe thead th {\n",
              "        text-align: right;\n",
              "    }\n",
              "</style>\n",
              "<table border=\"1\" class=\"dataframe\">\n",
              "  <thead>\n",
              "    <tr style=\"text-align: right;\">\n",
              "      <th></th>\n",
              "      <th>date</th>\n",
              "      <th>season</th>\n",
              "      <th>neutral</th>\n",
              "      <th>playoff</th>\n",
              "      <th>team1</th>\n",
              "      <th>team2</th>\n",
              "      <th>elo1_pre</th>\n",
              "      <th>elo2_pre</th>\n",
              "      <th>elo_prob1</th>\n",
              "      <th>elo_prob2</th>\n",
              "      <th>elo1_post</th>\n",
              "      <th>elo2_post</th>\n",
              "      <th>qbelo1_pre</th>\n",
              "      <th>qbelo2_pre</th>\n",
              "      <th>qb1</th>\n",
              "      <th>qb2</th>\n",
              "      <th>qb1_value_pre</th>\n",
              "      <th>qb2_value_pre</th>\n",
              "      <th>qb1_adj</th>\n",
              "      <th>qb2_adj</th>\n",
              "      <th>qbelo_prob1</th>\n",
              "      <th>qbelo_prob2</th>\n",
              "      <th>qb1_game_value</th>\n",
              "      <th>qb2_game_value</th>\n",
              "      <th>qb1_value_post</th>\n",
              "      <th>qb2_value_post</th>\n",
              "      <th>qbelo1_post</th>\n",
              "      <th>qbelo2_post</th>\n",
              "      <th>score1</th>\n",
              "      <th>score2</th>\n",
              "    </tr>\n",
              "  </thead>\n",
              "  <tbody>\n",
              "    <tr>\n",
              "      <th>0</th>\n",
              "      <td>1920-09-26</td>\n",
              "      <td>1920</td>\n",
              "      <td>0</td>\n",
              "      <td>NaN</td>\n",
              "      <td>RII</td>\n",
              "      <td>STP</td>\n",
              "      <td>1503.947</td>\n",
              "      <td>1300.0</td>\n",
              "      <td>0.824651</td>\n",
              "      <td>0.175349</td>\n",
              "      <td>1516.108</td>\n",
              "      <td>1287.838</td>\n",
              "      <td>NaN</td>\n",
              "      <td>NaN</td>\n",
              "      <td>NaN</td>\n",
              "      <td>NaN</td>\n",
              "      <td>NaN</td>\n",
              "      <td>NaN</td>\n",
              "      <td>NaN</td>\n",
              "      <td>NaN</td>\n",
              "      <td>NaN</td>\n",
              "      <td>NaN</td>\n",
              "      <td>NaN</td>\n",
              "      <td>NaN</td>\n",
              "      <td>NaN</td>\n",
              "      <td>NaN</td>\n",
              "      <td>NaN</td>\n",
              "      <td>NaN</td>\n",
              "      <td>48.0</td>\n",
              "      <td>0.0</td>\n",
              "    </tr>\n",
              "    <tr>\n",
              "      <th>1</th>\n",
              "      <td>1920-10-03</td>\n",
              "      <td>1920</td>\n",
              "      <td>0</td>\n",
              "      <td>NaN</td>\n",
              "      <td>RCH</td>\n",
              "      <td>ABU</td>\n",
              "      <td>1503.420</td>\n",
              "      <td>1300.0</td>\n",
              "      <td>0.824212</td>\n",
              "      <td>0.175788</td>\n",
              "      <td>1510.934</td>\n",
              "      <td>1292.486</td>\n",
              "      <td>NaN</td>\n",
              "      <td>NaN</td>\n",
              "      <td>NaN</td>\n",
              "      <td>NaN</td>\n",
              "      <td>NaN</td>\n",
              "      <td>NaN</td>\n",
              "      <td>NaN</td>\n",
              "      <td>NaN</td>\n",
              "      <td>NaN</td>\n",
              "      <td>NaN</td>\n",
              "      <td>NaN</td>\n",
              "      <td>NaN</td>\n",
              "      <td>NaN</td>\n",
              "      <td>NaN</td>\n",
              "      <td>NaN</td>\n",
              "      <td>NaN</td>\n",
              "      <td>10.0</td>\n",
              "      <td>0.0</td>\n",
              "    </tr>\n",
              "    <tr>\n",
              "      <th>2</th>\n",
              "      <td>1920-10-03</td>\n",
              "      <td>1920</td>\n",
              "      <td>0</td>\n",
              "      <td>NaN</td>\n",
              "      <td>BFF</td>\n",
              "      <td>WBU</td>\n",
              "      <td>1478.004</td>\n",
              "      <td>1300.0</td>\n",
              "      <td>0.802000</td>\n",
              "      <td>0.198000</td>\n",
              "      <td>1489.757</td>\n",
              "      <td>1288.247</td>\n",
              "      <td>NaN</td>\n",
              "      <td>NaN</td>\n",
              "      <td>NaN</td>\n",
              "      <td>NaN</td>\n",
              "      <td>NaN</td>\n",
              "      <td>NaN</td>\n",
              "      <td>NaN</td>\n",
              "      <td>NaN</td>\n",
              "      <td>NaN</td>\n",
              "      <td>NaN</td>\n",
              "      <td>NaN</td>\n",
              "      <td>NaN</td>\n",
              "      <td>NaN</td>\n",
              "      <td>NaN</td>\n",
              "      <td>NaN</td>\n",
              "      <td>NaN</td>\n",
              "      <td>32.0</td>\n",
              "      <td>6.0</td>\n",
              "    </tr>\n",
              "    <tr>\n",
              "      <th>3</th>\n",
              "      <td>1920-10-03</td>\n",
              "      <td>1920</td>\n",
              "      <td>0</td>\n",
              "      <td>NaN</td>\n",
              "      <td>AKR</td>\n",
              "      <td>WHE</td>\n",
              "      <td>1503.420</td>\n",
              "      <td>1300.0</td>\n",
              "      <td>0.824212</td>\n",
              "      <td>0.175788</td>\n",
              "      <td>1515.278</td>\n",
              "      <td>1288.142</td>\n",
              "      <td>NaN</td>\n",
              "      <td>NaN</td>\n",
              "      <td>NaN</td>\n",
              "      <td>NaN</td>\n",
              "      <td>NaN</td>\n",
              "      <td>NaN</td>\n",
              "      <td>NaN</td>\n",
              "      <td>NaN</td>\n",
              "      <td>NaN</td>\n",
              "      <td>NaN</td>\n",
              "      <td>NaN</td>\n",
              "      <td>NaN</td>\n",
              "      <td>NaN</td>\n",
              "      <td>NaN</td>\n",
              "      <td>NaN</td>\n",
              "      <td>NaN</td>\n",
              "      <td>43.0</td>\n",
              "      <td>0.0</td>\n",
              "    </tr>\n",
              "    <tr>\n",
              "      <th>4</th>\n",
              "      <td>1920-10-03</td>\n",
              "      <td>1920</td>\n",
              "      <td>0</td>\n",
              "      <td>NaN</td>\n",
              "      <td>CBD</td>\n",
              "      <td>PTQ</td>\n",
              "      <td>1504.688</td>\n",
              "      <td>1300.0</td>\n",
              "      <td>0.825267</td>\n",
              "      <td>0.174733</td>\n",
              "      <td>1516.803</td>\n",
              "      <td>1287.885</td>\n",
              "      <td>NaN</td>\n",
              "      <td>NaN</td>\n",
              "      <td>NaN</td>\n",
              "      <td>NaN</td>\n",
              "      <td>NaN</td>\n",
              "      <td>NaN</td>\n",
              "      <td>NaN</td>\n",
              "      <td>NaN</td>\n",
              "      <td>NaN</td>\n",
              "      <td>NaN</td>\n",
              "      <td>NaN</td>\n",
              "      <td>NaN</td>\n",
              "      <td>NaN</td>\n",
              "      <td>NaN</td>\n",
              "      <td>NaN</td>\n",
              "      <td>NaN</td>\n",
              "      <td>48.0</td>\n",
              "      <td>0.0</td>\n",
              "    </tr>\n",
              "  </tbody>\n",
              "</table>\n",
              "</div>"
            ],
            "text/plain": [
              "         date  season  neutral  ... qbelo2_post score1 score2\n",
              "0  1920-09-26    1920        0  ...         NaN   48.0    0.0\n",
              "1  1920-10-03    1920        0  ...         NaN   10.0    0.0\n",
              "2  1920-10-03    1920        0  ...         NaN   32.0    6.0\n",
              "3  1920-10-03    1920        0  ...         NaN   43.0    0.0\n",
              "4  1920-10-03    1920        0  ...         NaN   48.0    0.0\n",
              "\n",
              "[5 rows x 30 columns]"
            ]
          },
          "metadata": {
            "tags": []
          },
          "execution_count": 8
        }
      ]
    },
    {
      "cell_type": "code",
      "metadata": {
        "colab": {
          "base_uri": "https://localhost:8080/"
        },
        "id": "Dp3cViS1fPXB",
        "outputId": "d5e08734-bcc1-4c34-af7b-4cf9350fdc93"
      },
      "source": [
        "df.dtypes"
      ],
      "execution_count": null,
      "outputs": [
        {
          "output_type": "execute_result",
          "data": {
            "text/plain": [
              "date               object\n",
              "season              int64\n",
              "neutral             int64\n",
              "playoff            object\n",
              "team1              object\n",
              "team2              object\n",
              "elo1_pre          float64\n",
              "elo2_pre          float64\n",
              "elo_prob1         float64\n",
              "elo_prob2         float64\n",
              "elo1_post         float64\n",
              "elo2_post         float64\n",
              "qbelo1_pre        float64\n",
              "qbelo2_pre        float64\n",
              "qb1                object\n",
              "qb2                object\n",
              "qb1_value_pre     float64\n",
              "qb2_value_pre     float64\n",
              "qb1_adj           float64\n",
              "qb2_adj           float64\n",
              "qbelo_prob1       float64\n",
              "qbelo_prob2       float64\n",
              "qb1_game_value    float64\n",
              "qb2_game_value    float64\n",
              "qb1_value_post    float64\n",
              "qb2_value_post    float64\n",
              "qbelo1_post       float64\n",
              "qbelo2_post       float64\n",
              "score1            float64\n",
              "score2            float64\n",
              "dtype: object"
            ]
          },
          "metadata": {
            "tags": []
          },
          "execution_count": 14
        }
      ]
    },
    {
      "cell_type": "code",
      "metadata": {
        "id": "GWtabyNZmc10",
        "colab": {
          "base_uri": "https://localhost:8080/"
        },
        "outputId": "f84939a4-fefa-4046-d9f3-f808d6cc27c5"
      },
      "source": [
        "df.info()"
      ],
      "execution_count": null,
      "outputs": [
        {
          "output_type": "stream",
          "text": [
            "<class 'pandas.core.frame.DataFrame'>\n",
            "RangeIndex: 16810 entries, 0 to 16809\n",
            "Data columns (total 30 columns):\n",
            " #   Column          Non-Null Count  Dtype  \n",
            "---  ------          --------------  -----  \n",
            " 0   date            16810 non-null  object \n",
            " 1   season          16810 non-null  int64  \n",
            " 2   neutral         16810 non-null  int64  \n",
            " 3   playoff         590 non-null    object \n",
            " 4   team1           16803 non-null  object \n",
            " 5   team2           16803 non-null  object \n",
            " 6   elo1_pre        16803 non-null  float64\n",
            " 7   elo2_pre        16803 non-null  float64\n",
            " 8   elo_prob1       16803 non-null  float64\n",
            " 9   elo_prob2       16803 non-null  float64\n",
            " 10  elo1_post       16797 non-null  float64\n",
            " 11  elo2_post       16797 non-null  float64\n",
            " 12  qbelo1_pre      14635 non-null  float64\n",
            " 13  qbelo2_pre      14635 non-null  float64\n",
            " 14  qb1             14641 non-null  object \n",
            " 15  qb2             14640 non-null  object \n",
            " 16  qb1_value_pre   14641 non-null  float64\n",
            " 17  qb2_value_pre   14641 non-null  float64\n",
            " 18  qb1_adj         14648 non-null  float64\n",
            " 19  qb2_adj         14648 non-null  float64\n",
            " 20  qbelo_prob1     14641 non-null  float64\n",
            " 21  qbelo_prob2     14641 non-null  float64\n",
            " 22  qb1_game_value  14635 non-null  float64\n",
            " 23  qb2_game_value  14635 non-null  float64\n",
            " 24  qb1_value_post  14635 non-null  float64\n",
            " 25  qb2_value_post  14635 non-null  float64\n",
            " 26  qbelo1_post     14635 non-null  float64\n",
            " 27  qbelo2_post     14635 non-null  float64\n",
            " 28  score1          16797 non-null  float64\n",
            " 29  score2          16797 non-null  float64\n",
            "dtypes: float64(22), int64(2), object(6)\n",
            "memory usage: 3.8+ MB\n"
          ],
          "name": "stdout"
        }
      ]
    },
    {
      "cell_type": "code",
      "metadata": {
        "colab": {
          "base_uri": "https://localhost:8080/"
        },
        "id": "xhkHwi_Cfxao",
        "outputId": "5263964f-b710-4183-acef-8378c40d600d"
      },
      "source": [
        "df.isnull().sum()"
      ],
      "execution_count": null,
      "outputs": [
        {
          "output_type": "execute_result",
          "data": {
            "text/plain": [
              "date                  0\n",
              "season                0\n",
              "neutral               0\n",
              "playoff           16220\n",
              "team1                 7\n",
              "team2                 7\n",
              "elo1_pre              7\n",
              "elo2_pre              7\n",
              "elo_prob1             7\n",
              "elo_prob2             7\n",
              "elo1_post            13\n",
              "elo2_post            13\n",
              "qbelo1_pre         2175\n",
              "qbelo2_pre         2175\n",
              "qb1                2169\n",
              "qb2                2170\n",
              "qb1_value_pre      2169\n",
              "qb2_value_pre      2169\n",
              "qb1_adj            2162\n",
              "qb2_adj            2162\n",
              "qbelo_prob1        2169\n",
              "qbelo_prob2        2169\n",
              "qb1_game_value     2175\n",
              "qb2_game_value     2175\n",
              "qb1_value_post     2175\n",
              "qb2_value_post     2175\n",
              "qbelo1_post        2175\n",
              "qbelo2_post        2175\n",
              "score1               13\n",
              "score2               13\n",
              "dtype: int64"
            ]
          },
          "metadata": {
            "tags": []
          },
          "execution_count": 10
        }
      ]
    },
    {
      "cell_type": "code",
      "metadata": {
        "colab": {
          "base_uri": "https://localhost:8080/",
          "height": 307
        },
        "id": "4fyatbdyf2LO",
        "outputId": "3b4b05f3-2113-4102-a8d1-eafac60f3dfd"
      },
      "source": [
        "df.describe()"
      ],
      "execution_count": null,
      "outputs": [
        {
          "output_type": "execute_result",
          "data": {
            "text/html": [
              "<div>\n",
              "<style scoped>\n",
              "    .dataframe tbody tr th:only-of-type {\n",
              "        vertical-align: middle;\n",
              "    }\n",
              "\n",
              "    .dataframe tbody tr th {\n",
              "        vertical-align: top;\n",
              "    }\n",
              "\n",
              "    .dataframe thead th {\n",
              "        text-align: right;\n",
              "    }\n",
              "</style>\n",
              "<table border=\"1\" class=\"dataframe\">\n",
              "  <thead>\n",
              "    <tr style=\"text-align: right;\">\n",
              "      <th></th>\n",
              "      <th>season</th>\n",
              "      <th>neutral</th>\n",
              "      <th>elo1_pre</th>\n",
              "      <th>elo2_pre</th>\n",
              "      <th>elo_prob1</th>\n",
              "      <th>elo_prob2</th>\n",
              "      <th>elo1_post</th>\n",
              "      <th>elo2_post</th>\n",
              "      <th>qbelo1_pre</th>\n",
              "      <th>qbelo2_pre</th>\n",
              "      <th>qb1_value_pre</th>\n",
              "      <th>qb2_value_pre</th>\n",
              "      <th>qb1_adj</th>\n",
              "      <th>qb2_adj</th>\n",
              "      <th>qbelo_prob1</th>\n",
              "      <th>qbelo_prob2</th>\n",
              "      <th>qb1_game_value</th>\n",
              "      <th>qb2_game_value</th>\n",
              "      <th>qb1_value_post</th>\n",
              "      <th>qb2_value_post</th>\n",
              "      <th>qbelo1_post</th>\n",
              "      <th>qbelo2_post</th>\n",
              "      <th>score1</th>\n",
              "      <th>score2</th>\n",
              "    </tr>\n",
              "  </thead>\n",
              "  <tbody>\n",
              "    <tr>\n",
              "      <th>count</th>\n",
              "      <td>16810.000000</td>\n",
              "      <td>16810.000000</td>\n",
              "      <td>16803.000000</td>\n",
              "      <td>16803.000000</td>\n",
              "      <td>16803.000000</td>\n",
              "      <td>16803.000000</td>\n",
              "      <td>16797.000000</td>\n",
              "      <td>16797.000000</td>\n",
              "      <td>14635.000000</td>\n",
              "      <td>14635.000000</td>\n",
              "      <td>14641.000000</td>\n",
              "      <td>14641.000000</td>\n",
              "      <td>14648.000000</td>\n",
              "      <td>14648.000000</td>\n",
              "      <td>14641.000000</td>\n",
              "      <td>14641.000000</td>\n",
              "      <td>14635.000000</td>\n",
              "      <td>14635.000000</td>\n",
              "      <td>14635.000000</td>\n",
              "      <td>14635.000000</td>\n",
              "      <td>14635.000000</td>\n",
              "      <td>14635.000000</td>\n",
              "      <td>16797.000000</td>\n",
              "      <td>16797.000000</td>\n",
              "    </tr>\n",
              "    <tr>\n",
              "      <th>mean</th>\n",
              "      <td>1983.619393</td>\n",
              "      <td>0.005473</td>\n",
              "      <td>1502.732847</td>\n",
              "      <td>1499.147750</td>\n",
              "      <td>0.584863</td>\n",
              "      <td>0.415137</td>\n",
              "      <td>1502.461891</td>\n",
              "      <td>1499.351952</td>\n",
              "      <td>1503.993833</td>\n",
              "      <td>1502.722747</td>\n",
              "      <td>94.707190</td>\n",
              "      <td>94.705827</td>\n",
              "      <td>-1.258195</td>\n",
              "      <td>-1.282938</td>\n",
              "      <td>0.574996</td>\n",
              "      <td>0.425004</td>\n",
              "      <td>107.749978</td>\n",
              "      <td>87.192954</td>\n",
              "      <td>95.970935</td>\n",
              "      <td>93.924757</td>\n",
              "      <td>1504.041682</td>\n",
              "      <td>1502.674898</td>\n",
              "      <td>21.615050</td>\n",
              "      <td>18.740013</td>\n",
              "    </tr>\n",
              "    <tr>\n",
              "      <th>std</th>\n",
              "      <td>25.872184</td>\n",
              "      <td>0.073779</td>\n",
              "      <td>104.980511</td>\n",
              "      <td>104.417688</td>\n",
              "      <td>0.175244</td>\n",
              "      <td>0.175244</td>\n",
              "      <td>107.539339</td>\n",
              "      <td>106.609134</td>\n",
              "      <td>100.072284</td>\n",
              "      <td>98.863454</td>\n",
              "      <td>57.341477</td>\n",
              "      <td>56.900886</td>\n",
              "      <td>25.000509</td>\n",
              "      <td>25.513945</td>\n",
              "      <td>0.178042</td>\n",
              "      <td>0.178042</td>\n",
              "      <td>133.256457</td>\n",
              "      <td>131.598527</td>\n",
              "      <td>57.632005</td>\n",
              "      <td>57.091094</td>\n",
              "      <td>102.543651</td>\n",
              "      <td>101.095430</td>\n",
              "      <td>11.253972</td>\n",
              "      <td>10.815233</td>\n",
              "    </tr>\n",
              "    <tr>\n",
              "      <th>min</th>\n",
              "      <td>1920.000000</td>\n",
              "      <td>0.000000</td>\n",
              "      <td>1119.595000</td>\n",
              "      <td>1156.551000</td>\n",
              "      <td>0.070953</td>\n",
              "      <td>0.029484</td>\n",
              "      <td>1119.595000</td>\n",
              "      <td>1153.902000</td>\n",
              "      <td>1149.699743</td>\n",
              "      <td>1152.474651</td>\n",
              "      <td>-53.778917</td>\n",
              "      <td>-47.286867</td>\n",
              "      <td>-242.487678</td>\n",
              "      <td>-218.568599</td>\n",
              "      <td>0.059810</td>\n",
              "      <td>0.032803</td>\n",
              "      <td>-385.737110</td>\n",
              "      <td>-413.971659</td>\n",
              "      <td>-46.329533</td>\n",
              "      <td>-53.778917</td>\n",
              "      <td>1164.327676</td>\n",
              "      <td>1149.699743</td>\n",
              "      <td>0.000000</td>\n",
              "      <td>0.000000</td>\n",
              "    </tr>\n",
              "    <tr>\n",
              "      <th>25%</th>\n",
              "      <td>1968.000000</td>\n",
              "      <td>0.000000</td>\n",
              "      <td>1429.443000</td>\n",
              "      <td>1426.015000</td>\n",
              "      <td>0.460919</td>\n",
              "      <td>0.280314</td>\n",
              "      <td>1426.968000</td>\n",
              "      <td>1424.300000</td>\n",
              "      <td>1433.839345</td>\n",
              "      <td>1434.291131</td>\n",
              "      <td>53.150019</td>\n",
              "      <td>53.477085</td>\n",
              "      <td>-8.230231</td>\n",
              "      <td>-8.074793</td>\n",
              "      <td>0.446664</td>\n",
              "      <td>0.286474</td>\n",
              "      <td>14.615836</td>\n",
              "      <td>-6.202121</td>\n",
              "      <td>53.909725</td>\n",
              "      <td>52.336504</td>\n",
              "      <td>1432.336253</td>\n",
              "      <td>1431.891933</td>\n",
              "      <td>14.000000</td>\n",
              "      <td>10.000000</td>\n",
              "    </tr>\n",
              "    <tr>\n",
              "      <th>50%</th>\n",
              "      <td>1988.000000</td>\n",
              "      <td>0.000000</td>\n",
              "      <td>1504.503000</td>\n",
              "      <td>1500.675000</td>\n",
              "      <td>0.596662</td>\n",
              "      <td>0.403338</td>\n",
              "      <td>1504.307000</td>\n",
              "      <td>1500.735000</td>\n",
              "      <td>1505.488774</td>\n",
              "      <td>1504.419126</td>\n",
              "      <td>89.279087</td>\n",
              "      <td>89.678692</td>\n",
              "      <td>1.976468</td>\n",
              "      <td>2.136430</td>\n",
              "      <td>0.586351</td>\n",
              "      <td>0.413649</td>\n",
              "      <td>104.771856</td>\n",
              "      <td>82.731136</td>\n",
              "      <td>90.476700</td>\n",
              "      <td>88.724627</td>\n",
              "      <td>1505.039546</td>\n",
              "      <td>1504.933375</td>\n",
              "      <td>21.000000</td>\n",
              "      <td>17.000000</td>\n",
              "    </tr>\n",
              "    <tr>\n",
              "      <th>75%</th>\n",
              "      <td>2005.000000</td>\n",
              "      <td>0.000000</td>\n",
              "      <td>1578.225093</td>\n",
              "      <td>1576.062500</td>\n",
              "      <td>0.719686</td>\n",
              "      <td>0.539081</td>\n",
              "      <td>1580.795000</td>\n",
              "      <td>1577.091000</td>\n",
              "      <td>1574.456540</td>\n",
              "      <td>1574.603216</td>\n",
              "      <td>130.293126</td>\n",
              "      <td>130.022264</td>\n",
              "      <td>12.044192</td>\n",
              "      <td>11.999459</td>\n",
              "      <td>0.713526</td>\n",
              "      <td>0.553336</td>\n",
              "      <td>198.411935</td>\n",
              "      <td>175.515991</td>\n",
              "      <td>131.716330</td>\n",
              "      <td>129.764621</td>\n",
              "      <td>1578.301943</td>\n",
              "      <td>1574.834996</td>\n",
              "      <td>28.000000</td>\n",
              "      <td>26.000000</td>\n",
              "    </tr>\n",
              "    <tr>\n",
              "      <th>max</th>\n",
              "      <td>2020.000000</td>\n",
              "      <td>1.000000</td>\n",
              "      <td>1839.663000</td>\n",
              "      <td>1849.484000</td>\n",
              "      <td>0.970516</td>\n",
              "      <td>0.929047</td>\n",
              "      <td>1849.484000</td>\n",
              "      <td>1831.462000</td>\n",
              "      <td>1806.390160</td>\n",
              "      <td>1814.366226</td>\n",
              "      <td>329.562716</td>\n",
              "      <td>327.716545</td>\n",
              "      <td>107.685793</td>\n",
              "      <td>107.087461</td>\n",
              "      <td>0.967197</td>\n",
              "      <td>0.940190</td>\n",
              "      <td>713.695222</td>\n",
              "      <td>605.098179</td>\n",
              "      <td>327.716545</td>\n",
              "      <td>329.562716</td>\n",
              "      <td>1814.366226</td>\n",
              "      <td>1806.223590</td>\n",
              "      <td>72.000000</td>\n",
              "      <td>73.000000</td>\n",
              "    </tr>\n",
              "  </tbody>\n",
              "</table>\n",
              "</div>"
            ],
            "text/plain": [
              "             season       neutral  ...        score1        score2\n",
              "count  16810.000000  16810.000000  ...  16797.000000  16797.000000\n",
              "mean    1983.619393      0.005473  ...     21.615050     18.740013\n",
              "std       25.872184      0.073779  ...     11.253972     10.815233\n",
              "min     1920.000000      0.000000  ...      0.000000      0.000000\n",
              "25%     1968.000000      0.000000  ...     14.000000     10.000000\n",
              "50%     1988.000000      0.000000  ...     21.000000     17.000000\n",
              "75%     2005.000000      0.000000  ...     28.000000     26.000000\n",
              "max     2020.000000      1.000000  ...     72.000000     73.000000\n",
              "\n",
              "[8 rows x 24 columns]"
            ]
          },
          "metadata": {
            "tags": []
          },
          "execution_count": 11
        }
      ]
    },
    {
      "cell_type": "code",
      "metadata": {
        "colab": {
          "base_uri": "https://localhost:8080/"
        },
        "id": "x0CylktXgBrb",
        "outputId": "fa88c8b2-fc67-4345-be0d-0176a78ef818"
      },
      "source": [
        "duplicate_rows_df = df[df.duplicated()]\r\n",
        "print('number of duplicate rows: ', duplicate_rows_df.shape)"
      ],
      "execution_count": null,
      "outputs": [
        {
          "output_type": "stream",
          "text": [
            "number of duplicate rows:  (3, 30)\n"
          ],
          "name": "stdout"
        }
      ]
    },
    {
      "cell_type": "markdown",
      "metadata": {
        "id": "3oVv_uageT9A"
      },
      "source": [
        "#Data Preparation"
      ]
    },
    {
      "cell_type": "code",
      "metadata": {
        "id": "rvVko8-koEAb"
      },
      "source": [
        "#We dont need games without score. Means they havent passed. \r\n",
        "df = df[df['score1'].notna()]\r\n",
        "\r\n",
        "#Change date dtype to datetime\r\n",
        "df['date'] = pd.to_datetime(df['date'])\r\n",
        "\r\n",
        "#Drop columns we know we won't need. Columns with _post are provided after the game result, so they dont help us.  \r\n",
        "df = df.drop(columns=['neutral','playoff','elo1_post','elo2_post','qb1','qb2',\r\n",
        "                      'qb1_value_post','qb2_value_post','qbelo1_post','qbelo2_post'], axis=1) "
      ],
      "execution_count": null,
      "outputs": []
    },
    {
      "cell_type": "code",
      "metadata": {
        "id": "RTqwdQKWjMGc"
      },
      "source": [
        "#Add column of result being 1 a win of home team\r\n",
        "df['result'] = (df.score1 >= df.score2).astype(int)"
      ],
      "execution_count": null,
      "outputs": []
    },
    {
      "cell_type": "code",
      "metadata": {
        "id": "NFtt2d5dm-NR"
      },
      "source": [
        "#Remove null values\r\n",
        "#Change data types\r\n",
        "## More optional EDA\r\n",
        "#pairplot(df)\r\n",
        "  "
      ],
      "execution_count": null,
      "outputs": []
    },
    {
      "cell_type": "markdown",
      "metadata": {
        "id": "OGkZH4vOpB1F"
      },
      "source": [
        "#Feature Selection"
      ]
    },
    {
      "cell_type": "markdown",
      "metadata": {
        "id": "j1BVGN9nko_g"
      },
      "source": [
        "##Feature subset 1"
      ]
    },
    {
      "cell_type": "code",
      "metadata": {
        "id": "RY7vY_4mziRa"
      },
      "source": [
        "#First, we work with columns that doesn't have nulls\r\n",
        "df_sb1 = df[['elo1_pre','elo2_pre','elo_prob1','elo_prob2','result']]"
      ],
      "execution_count": null,
      "outputs": []
    },
    {
      "cell_type": "code",
      "metadata": {
        "colab": {
          "base_uri": "https://localhost:8080/",
          "height": 197
        },
        "id": "r7Cxihdoz5TH",
        "outputId": "fb533c10-8e91-430b-e069-d08023560f60"
      },
      "source": [
        "df_sb1.corr()"
      ],
      "execution_count": null,
      "outputs": [
        {
          "output_type": "execute_result",
          "data": {
            "text/html": [
              "<div>\n",
              "<style scoped>\n",
              "    .dataframe tbody tr th:only-of-type {\n",
              "        vertical-align: middle;\n",
              "    }\n",
              "\n",
              "    .dataframe tbody tr th {\n",
              "        vertical-align: top;\n",
              "    }\n",
              "\n",
              "    .dataframe thead th {\n",
              "        text-align: right;\n",
              "    }\n",
              "</style>\n",
              "<table border=\"1\" class=\"dataframe\">\n",
              "  <thead>\n",
              "    <tr style=\"text-align: right;\">\n",
              "      <th></th>\n",
              "      <th>elo1_pre</th>\n",
              "      <th>elo2_pre</th>\n",
              "      <th>elo_prob1</th>\n",
              "      <th>elo_prob2</th>\n",
              "      <th>result</th>\n",
              "    </tr>\n",
              "  </thead>\n",
              "  <tbody>\n",
              "    <tr>\n",
              "      <th>elo1_pre</th>\n",
              "      <td>1.000000</td>\n",
              "      <td>0.083517</td>\n",
              "      <td>0.674071</td>\n",
              "      <td>-0.674071</td>\n",
              "      <td>0.246291</td>\n",
              "    </tr>\n",
              "    <tr>\n",
              "      <th>elo2_pre</th>\n",
              "      <td>0.083517</td>\n",
              "      <td>1.000000</td>\n",
              "      <td>-0.670229</td>\n",
              "      <td>0.670229</td>\n",
              "      <td>-0.232654</td>\n",
              "    </tr>\n",
              "    <tr>\n",
              "      <th>elo_prob1</th>\n",
              "      <td>0.674071</td>\n",
              "      <td>-0.670229</td>\n",
              "      <td>1.000000</td>\n",
              "      <td>-1.000000</td>\n",
              "      <td>0.354826</td>\n",
              "    </tr>\n",
              "    <tr>\n",
              "      <th>elo_prob2</th>\n",
              "      <td>-0.674071</td>\n",
              "      <td>0.670229</td>\n",
              "      <td>-1.000000</td>\n",
              "      <td>1.000000</td>\n",
              "      <td>-0.354826</td>\n",
              "    </tr>\n",
              "    <tr>\n",
              "      <th>result</th>\n",
              "      <td>0.246291</td>\n",
              "      <td>-0.232654</td>\n",
              "      <td>0.354826</td>\n",
              "      <td>-0.354826</td>\n",
              "      <td>1.000000</td>\n",
              "    </tr>\n",
              "  </tbody>\n",
              "</table>\n",
              "</div>"
            ],
            "text/plain": [
              "           elo1_pre  elo2_pre  elo_prob1  elo_prob2    result\n",
              "elo1_pre   1.000000  0.083517   0.674071  -0.674071  0.246291\n",
              "elo2_pre   0.083517  1.000000  -0.670229   0.670229 -0.232654\n",
              "elo_prob1  0.674071 -0.670229   1.000000  -1.000000  0.354826\n",
              "elo_prob2 -0.674071  0.670229  -1.000000   1.000000 -0.354826\n",
              "result     0.246291 -0.232654   0.354826  -0.354826  1.000000"
            ]
          },
          "metadata": {
            "tags": []
          },
          "execution_count": 18
        }
      ]
    },
    {
      "cell_type": "code",
      "metadata": {
        "colab": {
          "base_uri": "https://localhost:8080/"
        },
        "id": "wnSIVBuHtk7O",
        "outputId": "71d5fd73-e47e-4362-f220-54a162b598f5"
      },
      "source": [
        "from statsmodels.graphics.correlation import plot_corr\r\n",
        "import seaborn as sns\r\n",
        "import numpy as np\r\n",
        "import matplotlib.pyplot as plt"
      ],
      "execution_count": null,
      "outputs": [
        {
          "output_type": "stream",
          "text": [
            "/usr/local/lib/python3.6/dist-packages/statsmodels/tools/_testing.py:19: FutureWarning: pandas.util.testing is deprecated. Use the functions in the public API at pandas.testing instead.\n",
            "  import pandas.util.testing as tm\n"
          ],
          "name": "stderr"
        }
      ]
    },
    {
      "cell_type": "code",
      "metadata": {
        "colab": {
          "base_uri": "https://localhost:8080/",
          "height": 531
        },
        "id": "Q62yzP-QtqUK",
        "outputId": "252515ef-08b7-461e-d6a1-4f693647d32c"
      },
      "source": [
        "sns.set_theme(style=\"white\")\r\n",
        "corr1=df_sb1.corr()\r\n",
        "mask = np.triu(np.ones_like(corr1, dtype=bool))\r\n",
        "f, ax = plt.subplots(figsize=(10, 9))\r\n",
        "cmap = sns.diverging_palette(230, 20, as_cmap=True)\r\n",
        "heatmap=sns.heatmap(corr1, mask=mask, cmap=cmap, vmin=-1, vmax=1, center=0, square=True, linewidths=.5, cbar_kws={\"shrink\": .5}, annot=True)\r\n",
        "heatmap.set_title('Correlation Heatmap')"
      ],
      "execution_count": null,
      "outputs": [
        {
          "output_type": "execute_result",
          "data": {
            "text/plain": [
              "Text(0.5, 1.0, 'Correlation Heatmap')"
            ]
          },
          "metadata": {
            "tags": []
          },
          "execution_count": 21
        },
        {
          "output_type": "display_data",
          "data": {
            "image/png": "[encoded data removed]",
            "text/plain": [
              "<Figure size 720x648 with 2 Axes>"
            ]
          },
          "metadata": {
            "tags": []
          }
        }
      ]
    },
    {
      "cell_type": "code",
      "metadata": {
        "id": "OYE4uGSW1_Vc"
      },
      "source": [
        "#We are gonna drop the features that has high correlation between them. Will choose the one with higher relation with result. "
      ],
      "execution_count": null,
      "outputs": []
    },
    {
      "cell_type": "code",
      "metadata": {
        "colab": {
          "base_uri": "https://localhost:8080/"
        },
        "id": "2tBnhEcG2iEQ",
        "outputId": "e98442ab-4bcf-4e69-dd9b-c305ad6d4109"
      },
      "source": [
        "from sklearn.feature_selection import RFE\r\n",
        "from sklearn.discriminant_analysis import LinearDiscriminantAnalysis as LDA\r\n",
        "\r\n",
        "X = df_sb1[['elo1_pre','elo2_pre','elo_prob1','elo_prob2']]\r\n",
        "y = df_sb1['result']\r\n",
        "\r\n",
        "# base model\r\n",
        "base = LDA()\r\n",
        "# choose 3 best features\r\n",
        "rfe = RFE(base, 1)\r\n",
        "rfe = rfe.fit(X, y)\r\n",
        "\r\n",
        "# features\r\n",
        "print(rfe.support_)\r\n",
        "print(rfe.ranking_)"
      ],
      "execution_count": null,
      "outputs": [
        {
          "output_type": "stream",
          "text": [
            "[False False False  True]\n",
            "[3 4 2 1]\n"
          ],
          "name": "stdout"
        }
      ]
    },
    {
      "cell_type": "code",
      "metadata": {
        "id": "hqVor-r63fWM"
      },
      "source": [
        "#Drop elo_prob2 since has a high correlation with elo_prob1. Keep elo_prob1 because it corresponds to home team "
      ],
      "execution_count": null,
      "outputs": []
    },
    {
      "cell_type": "markdown",
      "metadata": {
        "id": "z9xgoEGFvXmC"
      },
      "source": [
        "##Feature subset 2"
      ]
    },
    {
      "cell_type": "code",
      "metadata": {
        "colab": {
          "base_uri": "https://localhost:8080/",
          "height": 307
        },
        "id": "tbbkUKihvkWV",
        "outputId": "9c9df4e0-02ed-4765-df63-20bd110b97a4"
      },
      "source": [
        "df[df['qbelo1_pre'].isna()].describe()"
      ],
      "execution_count": null,
      "outputs": [
        {
          "output_type": "execute_result",
          "data": {
            "text/html": [
              "<div>\n",
              "<style scoped>\n",
              "    .dataframe tbody tr th:only-of-type {\n",
              "        vertical-align: middle;\n",
              "    }\n",
              "\n",
              "    .dataframe tbody tr th {\n",
              "        vertical-align: top;\n",
              "    }\n",
              "\n",
              "    .dataframe thead th {\n",
              "        text-align: right;\n",
              "    }\n",
              "</style>\n",
              "<table border=\"1\" class=\"dataframe\">\n",
              "  <thead>\n",
              "    <tr style=\"text-align: right;\">\n",
              "      <th></th>\n",
              "      <th>season</th>\n",
              "      <th>elo1_pre</th>\n",
              "      <th>elo2_pre</th>\n",
              "      <th>elo_prob1</th>\n",
              "      <th>elo_prob2</th>\n",
              "      <th>qbelo1_pre</th>\n",
              "      <th>qbelo2_pre</th>\n",
              "      <th>qb1_value_pre</th>\n",
              "      <th>qb2_value_pre</th>\n",
              "      <th>qb1_adj</th>\n",
              "      <th>qb2_adj</th>\n",
              "      <th>qbelo_prob1</th>\n",
              "      <th>qbelo_prob2</th>\n",
              "      <th>qb1_game_value</th>\n",
              "      <th>qb2_game_value</th>\n",
              "      <th>score1</th>\n",
              "      <th>score2</th>\n",
              "      <th>result</th>\n",
              "    </tr>\n",
              "  </thead>\n",
              "  <tbody>\n",
              "    <tr>\n",
              "      <th>count</th>\n",
              "      <td>2162.000000</td>\n",
              "      <td>2162.000000</td>\n",
              "      <td>2162.000000</td>\n",
              "      <td>2162.000000</td>\n",
              "      <td>2162.000000</td>\n",
              "      <td>0.0</td>\n",
              "      <td>0.0</td>\n",
              "      <td>0.0</td>\n",
              "      <td>0.0</td>\n",
              "      <td>0.0</td>\n",
              "      <td>0.0</td>\n",
              "      <td>0.0</td>\n",
              "      <td>0.0</td>\n",
              "      <td>0.0</td>\n",
              "      <td>0.0</td>\n",
              "      <td>2162.000000</td>\n",
              "      <td>2162.000000</td>\n",
              "      <td>2162.000000</td>\n",
              "    </tr>\n",
              "    <tr>\n",
              "      <th>mean</th>\n",
              "      <td>1934.543941</td>\n",
              "      <td>1490.228523</td>\n",
              "      <td>1474.201720</td>\n",
              "      <td>0.599030</td>\n",
              "      <td>0.400970</td>\n",
              "      <td>NaN</td>\n",
              "      <td>NaN</td>\n",
              "      <td>NaN</td>\n",
              "      <td>NaN</td>\n",
              "      <td>NaN</td>\n",
              "      <td>NaN</td>\n",
              "      <td>NaN</td>\n",
              "      <td>NaN</td>\n",
              "      <td>NaN</td>\n",
              "      <td>NaN</td>\n",
              "      <td>15.577243</td>\n",
              "      <td>11.382979</td>\n",
              "      <td>0.649399</td>\n",
              "    </tr>\n",
              "    <tr>\n",
              "      <th>std</th>\n",
              "      <td>9.431953</td>\n",
              "      <td>115.501051</td>\n",
              "      <td>117.288435</td>\n",
              "      <td>0.189529</td>\n",
              "      <td>0.189529</td>\n",
              "      <td>NaN</td>\n",
              "      <td>NaN</td>\n",
              "      <td>NaN</td>\n",
              "      <td>NaN</td>\n",
              "      <td>NaN</td>\n",
              "      <td>NaN</td>\n",
              "      <td>NaN</td>\n",
              "      <td>NaN</td>\n",
              "      <td>NaN</td>\n",
              "      <td>NaN</td>\n",
              "      <td>12.769403</td>\n",
              "      <td>11.430147</td>\n",
              "      <td>0.477269</td>\n",
              "    </tr>\n",
              "    <tr>\n",
              "      <th>min</th>\n",
              "      <td>1920.000000</td>\n",
              "      <td>1119.595000</td>\n",
              "      <td>1172.916000</td>\n",
              "      <td>0.074040</td>\n",
              "      <td>0.048223</td>\n",
              "      <td>NaN</td>\n",
              "      <td>NaN</td>\n",
              "      <td>NaN</td>\n",
              "      <td>NaN</td>\n",
              "      <td>NaN</td>\n",
              "      <td>NaN</td>\n",
              "      <td>NaN</td>\n",
              "      <td>NaN</td>\n",
              "      <td>NaN</td>\n",
              "      <td>NaN</td>\n",
              "      <td>0.000000</td>\n",
              "      <td>0.000000</td>\n",
              "      <td>0.000000</td>\n",
              "    </tr>\n",
              "    <tr>\n",
              "      <th>25%</th>\n",
              "      <td>1926.000000</td>\n",
              "      <td>1406.569500</td>\n",
              "      <td>1391.261500</td>\n",
              "      <td>0.462854</td>\n",
              "      <td>0.247911</td>\n",
              "      <td>NaN</td>\n",
              "      <td>NaN</td>\n",
              "      <td>NaN</td>\n",
              "      <td>NaN</td>\n",
              "      <td>NaN</td>\n",
              "      <td>NaN</td>\n",
              "      <td>NaN</td>\n",
              "      <td>NaN</td>\n",
              "      <td>NaN</td>\n",
              "      <td>NaN</td>\n",
              "      <td>6.000000</td>\n",
              "      <td>0.000000</td>\n",
              "      <td>0.000000</td>\n",
              "    </tr>\n",
              "    <tr>\n",
              "      <th>50%</th>\n",
              "      <td>1934.000000</td>\n",
              "      <td>1501.893500</td>\n",
              "      <td>1469.762000</td>\n",
              "      <td>0.619609</td>\n",
              "      <td>0.380391</td>\n",
              "      <td>NaN</td>\n",
              "      <td>NaN</td>\n",
              "      <td>NaN</td>\n",
              "      <td>NaN</td>\n",
              "      <td>NaN</td>\n",
              "      <td>NaN</td>\n",
              "      <td>NaN</td>\n",
              "      <td>NaN</td>\n",
              "      <td>NaN</td>\n",
              "      <td>NaN</td>\n",
              "      <td>14.000000</td>\n",
              "      <td>7.000000</td>\n",
              "      <td>1.000000</td>\n",
              "    </tr>\n",
              "    <tr>\n",
              "      <th>75%</th>\n",
              "      <td>1944.000000</td>\n",
              "      <td>1580.134500</td>\n",
              "      <td>1566.578250</td>\n",
              "      <td>0.752089</td>\n",
              "      <td>0.537146</td>\n",
              "      <td>NaN</td>\n",
              "      <td>NaN</td>\n",
              "      <td>NaN</td>\n",
              "      <td>NaN</td>\n",
              "      <td>NaN</td>\n",
              "      <td>NaN</td>\n",
              "      <td>NaN</td>\n",
              "      <td>NaN</td>\n",
              "      <td>NaN</td>\n",
              "      <td>NaN</td>\n",
              "      <td>23.000000</td>\n",
              "      <td>17.000000</td>\n",
              "      <td>1.000000</td>\n",
              "    </tr>\n",
              "    <tr>\n",
              "      <th>max</th>\n",
              "      <td>1949.000000</td>\n",
              "      <td>1791.536000</td>\n",
              "      <td>1804.324000</td>\n",
              "      <td>0.951777</td>\n",
              "      <td>0.925960</td>\n",
              "      <td>NaN</td>\n",
              "      <td>NaN</td>\n",
              "      <td>NaN</td>\n",
              "      <td>NaN</td>\n",
              "      <td>NaN</td>\n",
              "      <td>NaN</td>\n",
              "      <td>NaN</td>\n",
              "      <td>NaN</td>\n",
              "      <td>NaN</td>\n",
              "      <td>NaN</td>\n",
              "      <td>66.000000</td>\n",
              "      <td>73.000000</td>\n",
              "      <td>1.000000</td>\n",
              "    </tr>\n",
              "  </tbody>\n",
              "</table>\n",
              "</div>"
            ],
            "text/plain": [
              "            season     elo1_pre  ...       score2       result\n",
              "count  2162.000000  2162.000000  ...  2162.000000  2162.000000\n",
              "mean   1934.543941  1490.228523  ...    11.382979     0.649399\n",
              "std       9.431953   115.501051  ...    11.430147     0.477269\n",
              "min    1920.000000  1119.595000  ...     0.000000     0.000000\n",
              "25%    1926.000000  1406.569500  ...     0.000000     0.000000\n",
              "50%    1934.000000  1501.893500  ...     7.000000     1.000000\n",
              "75%    1944.000000  1580.134500  ...    17.000000     1.000000\n",
              "max    1949.000000  1791.536000  ...    73.000000     1.000000\n",
              "\n",
              "[8 rows x 18 columns]"
            ]
          },
          "metadata": {
            "tags": []
          },
          "execution_count": 38
        }
      ]
    },
    {
      "cell_type": "code",
      "metadata": {
        "id": "lrycdeuDva6L"
      },
      "source": [
        "#Just work with seasons > 1949 so we can explore the rest of the variables\r\n",
        "df_sb2=df.loc[df['season'] > 1949]"
      ],
      "execution_count": null,
      "outputs": []
    },
    {
      "cell_type": "code",
      "metadata": {
        "colab": {
          "base_uri": "https://localhost:8080/"
        },
        "id": "k-hDbvxzv2Ve",
        "outputId": "b0430d91-dffd-402b-b246-03fa0f7cbdfe"
      },
      "source": [
        "df_sb2.isnull().sum()"
      ],
      "execution_count": null,
      "outputs": [
        {
          "output_type": "execute_result",
          "data": {
            "text/plain": [
              "date              0\n",
              "season            0\n",
              "team1             0\n",
              "team2             0\n",
              "elo1_pre          0\n",
              "elo2_pre          0\n",
              "elo_prob1         0\n",
              "elo_prob2         0\n",
              "qbelo1_pre        0\n",
              "qbelo2_pre        0\n",
              "qb1_value_pre     0\n",
              "qb2_value_pre     0\n",
              "qb1_adj           0\n",
              "qb2_adj           0\n",
              "qbelo_prob1       0\n",
              "qbelo_prob2       0\n",
              "qb1_game_value    0\n",
              "qb2_game_value    0\n",
              "score1            0\n",
              "score2            0\n",
              "result            0\n",
              "dtype: int64"
            ]
          },
          "metadata": {
            "tags": []
          },
          "execution_count": 24
        }
      ]
    },
    {
      "cell_type": "code",
      "metadata": {
        "id": "3RI1_wh1wJai"
      },
      "source": [
        "df_sb2=df_sb2[['qbelo1_pre','qbelo2_pre','qb1_value_pre','qb2_value_pre','qb1_adj','qb2_adj','qbelo_prob1','qbelo_prob2',\r\n",
        "                  'qb1_game_value','qb2_game_value','result']]"
      ],
      "execution_count": null,
      "outputs": []
    },
    {
      "cell_type": "code",
      "metadata": {
        "id": "OTYMuMmwyZtu",
        "colab": {
          "base_uri": "https://localhost:8080/",
          "height": 397
        },
        "outputId": "65a32401-2157-429f-8ee6-c60bd8703fa5"
      },
      "source": [
        "df_sb2.corr()"
      ],
      "execution_count": null,
      "outputs": [
        {
          "output_type": "execute_result",
          "data": {
            "text/html": [
              "<div>\n",
              "<style scoped>\n",
              "    .dataframe tbody tr th:only-of-type {\n",
              "        vertical-align: middle;\n",
              "    }\n",
              "\n",
              "    .dataframe tbody tr th {\n",
              "        vertical-align: top;\n",
              "    }\n",
              "\n",
              "    .dataframe thead th {\n",
              "        text-align: right;\n",
              "    }\n",
              "</style>\n",
              "<table border=\"1\" class=\"dataframe\">\n",
              "  <thead>\n",
              "    <tr style=\"text-align: right;\">\n",
              "      <th></th>\n",
              "      <th>qbelo1_pre</th>\n",
              "      <th>qbelo2_pre</th>\n",
              "      <th>qb1_value_pre</th>\n",
              "      <th>qb2_value_pre</th>\n",
              "      <th>qb1_adj</th>\n",
              "      <th>qb2_adj</th>\n",
              "      <th>qbelo_prob1</th>\n",
              "      <th>qbelo_prob2</th>\n",
              "      <th>qb1_game_value</th>\n",
              "      <th>qb2_game_value</th>\n",
              "      <th>result</th>\n",
              "    </tr>\n",
              "  </thead>\n",
              "  <tbody>\n",
              "    <tr>\n",
              "      <th>qbelo1_pre</th>\n",
              "      <td>1.000000</td>\n",
              "      <td>0.069888</td>\n",
              "      <td>0.459298</td>\n",
              "      <td>0.034179</td>\n",
              "      <td>0.116141</td>\n",
              "      <td>0.017964</td>\n",
              "      <td>0.668882</td>\n",
              "      <td>-0.668882</td>\n",
              "      <td>0.189725</td>\n",
              "      <td>-0.049400</td>\n",
              "      <td>0.240886</td>\n",
              "    </tr>\n",
              "    <tr>\n",
              "      <th>qbelo2_pre</th>\n",
              "      <td>0.069888</td>\n",
              "      <td>1.000000</td>\n",
              "      <td>0.043373</td>\n",
              "      <td>0.436970</td>\n",
              "      <td>0.033256</td>\n",
              "      <td>0.093921</td>\n",
              "      <td>-0.640435</td>\n",
              "      <td>0.640435</td>\n",
              "      <td>-0.020537</td>\n",
              "      <td>0.174386</td>\n",
              "      <td>-0.222172</td>\n",
              "    </tr>\n",
              "    <tr>\n",
              "      <th>qb1_value_pre</th>\n",
              "      <td>0.459298</td>\n",
              "      <td>0.043373</td>\n",
              "      <td>1.000000</td>\n",
              "      <td>0.275971</td>\n",
              "      <td>0.520033</td>\n",
              "      <td>0.012789</td>\n",
              "      <td>0.376223</td>\n",
              "      <td>-0.376223</td>\n",
              "      <td>0.352388</td>\n",
              "      <td>0.110306</td>\n",
              "      <td>0.137855</td>\n",
              "    </tr>\n",
              "    <tr>\n",
              "      <th>qb2_value_pre</th>\n",
              "      <td>0.034179</td>\n",
              "      <td>0.436970</td>\n",
              "      <td>0.275971</td>\n",
              "      <td>1.000000</td>\n",
              "      <td>0.003745</td>\n",
              "      <td>0.523685</td>\n",
              "      <td>-0.369380</td>\n",
              "      <td>0.369380</td>\n",
              "      <td>0.108492</td>\n",
              "      <td>0.345598</td>\n",
              "      <td>-0.141157</td>\n",
              "    </tr>\n",
              "    <tr>\n",
              "      <th>qb1_adj</th>\n",
              "      <td>0.116141</td>\n",
              "      <td>0.033256</td>\n",
              "      <td>0.520033</td>\n",
              "      <td>0.003745</td>\n",
              "      <td>1.000000</td>\n",
              "      <td>0.013435</td>\n",
              "      <td>0.229960</td>\n",
              "      <td>-0.229960</td>\n",
              "      <td>0.127696</td>\n",
              "      <td>-0.001010</td>\n",
              "      <td>0.078227</td>\n",
              "    </tr>\n",
              "    <tr>\n",
              "      <th>qb2_adj</th>\n",
              "      <td>0.017964</td>\n",
              "      <td>0.093921</td>\n",
              "      <td>0.012789</td>\n",
              "      <td>0.523685</td>\n",
              "      <td>0.013435</td>\n",
              "      <td>1.000000</td>\n",
              "      <td>-0.221653</td>\n",
              "      <td>0.221653</td>\n",
              "      <td>0.005859</td>\n",
              "      <td>0.122840</td>\n",
              "      <td>-0.061187</td>\n",
              "    </tr>\n",
              "    <tr>\n",
              "      <th>qbelo_prob1</th>\n",
              "      <td>0.668882</td>\n",
              "      <td>-0.640435</td>\n",
              "      <td>0.376223</td>\n",
              "      <td>-0.369380</td>\n",
              "      <td>0.229960</td>\n",
              "      <td>-0.221653</td>\n",
              "      <td>1.000000</td>\n",
              "      <td>-1.000000</td>\n",
              "      <td>0.169396</td>\n",
              "      <td>-0.178220</td>\n",
              "      <td>0.348883</td>\n",
              "    </tr>\n",
              "    <tr>\n",
              "      <th>qbelo_prob2</th>\n",
              "      <td>-0.668882</td>\n",
              "      <td>0.640435</td>\n",
              "      <td>-0.376223</td>\n",
              "      <td>0.369380</td>\n",
              "      <td>-0.229960</td>\n",
              "      <td>0.221653</td>\n",
              "      <td>-1.000000</td>\n",
              "      <td>1.000000</td>\n",
              "      <td>-0.169396</td>\n",
              "      <td>0.178220</td>\n",
              "      <td>-0.348883</td>\n",
              "    </tr>\n",
              "    <tr>\n",
              "      <th>qb1_game_value</th>\n",
              "      <td>0.189725</td>\n",
              "      <td>-0.020537</td>\n",
              "      <td>0.352388</td>\n",
              "      <td>0.108492</td>\n",
              "      <td>0.127696</td>\n",
              "      <td>0.005859</td>\n",
              "      <td>0.169396</td>\n",
              "      <td>-0.169396</td>\n",
              "      <td>1.000000</td>\n",
              "      <td>0.092034</td>\n",
              "      <td>0.372571</td>\n",
              "    </tr>\n",
              "    <tr>\n",
              "      <th>qb2_game_value</th>\n",
              "      <td>-0.049400</td>\n",
              "      <td>0.174386</td>\n",
              "      <td>0.110306</td>\n",
              "      <td>0.345598</td>\n",
              "      <td>-0.001010</td>\n",
              "      <td>0.122840</td>\n",
              "      <td>-0.178220</td>\n",
              "      <td>0.178220</td>\n",
              "      <td>0.092034</td>\n",
              "      <td>1.000000</td>\n",
              "      <td>-0.366888</td>\n",
              "    </tr>\n",
              "    <tr>\n",
              "      <th>result</th>\n",
              "      <td>0.240886</td>\n",
              "      <td>-0.222172</td>\n",
              "      <td>0.137855</td>\n",
              "      <td>-0.141157</td>\n",
              "      <td>0.078227</td>\n",
              "      <td>-0.061187</td>\n",
              "      <td>0.348883</td>\n",
              "      <td>-0.348883</td>\n",
              "      <td>0.372571</td>\n",
              "      <td>-0.366888</td>\n",
              "      <td>1.000000</td>\n",
              "    </tr>\n",
              "  </tbody>\n",
              "</table>\n",
              "</div>"
            ],
            "text/plain": [
              "                qbelo1_pre  qbelo2_pre  ...  qb2_game_value    result\n",
              "qbelo1_pre        1.000000    0.069888  ...       -0.049400  0.240886\n",
              "qbelo2_pre        0.069888    1.000000  ...        0.174386 -0.222172\n",
              "qb1_value_pre     0.459298    0.043373  ...        0.110306  0.137855\n",
              "qb2_value_pre     0.034179    0.436970  ...        0.345598 -0.141157\n",
              "qb1_adj           0.116141    0.033256  ...       -0.001010  0.078227\n",
              "qb2_adj           0.017964    0.093921  ...        0.122840 -0.061187\n",
              "qbelo_prob1       0.668882   -0.640435  ...       -0.178220  0.348883\n",
              "qbelo_prob2      -0.668882    0.640435  ...        0.178220 -0.348883\n",
              "qb1_game_value    0.189725   -0.020537  ...        0.092034  0.372571\n",
              "qb2_game_value   -0.049400    0.174386  ...        1.000000 -0.366888\n",
              "result            0.240886   -0.222172  ...       -0.366888  1.000000\n",
              "\n",
              "[11 rows x 11 columns]"
            ]
          },
          "metadata": {
            "tags": []
          },
          "execution_count": 26
        }
      ]
    },
    {
      "cell_type": "code",
      "metadata": {
        "id": "74-bPg29zVI3"
      },
      "source": [
        "import seaborn as sns\r\n",
        "import numpy as np\r\n",
        "import matplotlib.pyplot as plt"
      ],
      "execution_count": null,
      "outputs": []
    },
    {
      "cell_type": "code",
      "metadata": {
        "colab": {
          "base_uri": "https://localhost:8080/",
          "height": 656
        },
        "id": "59t1NwcKzIvR",
        "outputId": "2e763810-81df-4aab-f171-cc65318642dd"
      },
      "source": [
        "sns.set_theme(style=\"white\")\r\n",
        "corr=df_sb2.corr()\r\n",
        "mask = np.triu(np.ones_like(corr, dtype=bool))\r\n",
        "f, ax = plt.subplots(figsize=(20, 9))\r\n",
        "cmap = sns.diverging_palette(230, 20, as_cmap=True)\r\n",
        "heatmap=sns.heatmap(corr, mask=mask, cmap=cmap, vmin=-1, vmax=1, center=0, square=True, linewidths=.5, cbar_kws={\"shrink\": .5}, annot=True)\r\n",
        "heatmap.set_title('Correlation Heatmap')"
      ],
      "execution_count": null,
      "outputs": [
        {
          "output_type": "execute_result",
          "data": {
            "text/plain": [
              "Text(0.5, 1.0, 'Correlation Heatmap')"
            ]
          },
          "metadata": {
            "tags": []
          },
          "execution_count": 28
        },
        {
          "output_type": "display_data",
          "data": {
            "image/png": "[encoded data removed]",
            "text/plain": [
              "<Figure size 1440x648 with 2 Axes>"
            ]
          },
          "metadata": {
            "tags": []
          }
        }
      ]
    },
    {
      "cell_type": "code",
      "metadata": {
        "colab": {
          "base_uri": "https://localhost:8080/"
        },
        "id": "W8FCJ30W4Mb5",
        "outputId": "8343bb4b-e287-4c1f-a03c-f931272a0ffc"
      },
      "source": [
        "from sklearn.feature_selection import RFE\r\n",
        "from sklearn.discriminant_analysis import LinearDiscriminantAnalysis as LDA\r\n",
        "\r\n",
        "X = df_sb2[['qbelo1_pre','qbelo2_pre','qb1_value_pre','qb2_value_pre','qb1_adj','qb2_adj','qbelo_prob1','qbelo_prob2',\r\n",
        "                  'qb1_game_value','qb2_game_value']]\r\n",
        "y = df_sb2['result']\r\n",
        "\r\n",
        "# base model\r\n",
        "base = LDA()\r\n",
        "# choose 3 best features\r\n",
        "rfe = RFE(base, 1)\r\n",
        "rfe = rfe.fit(X, y)\r\n",
        "\r\n",
        "# features\r\n",
        "print(rfe.support_)\r\n",
        "print(rfe.ranking_)"
      ],
      "execution_count": null,
      "outputs": [
        {
          "output_type": "stream",
          "text": [
            "[False False False False False False  True False False False]\n",
            "[ 8  9  5  6  7 10  1  2  3  4]\n"
          ],
          "name": "stdout"
        }
      ]
    },
    {
      "cell_type": "code",
      "metadata": {
        "id": "S5vxfkdr5t8m"
      },
      "source": [
        "#Drop qbelo_prob2 since has a high correlation with elo_prob1. Keep qbelo_prob1 because it corresponds to home team.\r\n",
        "#Drop qb1_adj and qb2_adj because they correlate very low with result. \r\n"
      ],
      "execution_count": null,
      "outputs": []
    },
    {
      "cell_type": "markdown",
      "metadata": {
        "id": "WvjvNn6m6w1z"
      },
      "source": [
        "##Feature subsets 3"
      ]
    },
    {
      "cell_type": "code",
      "metadata": {
        "id": "vb0DCLvZ6_Q9"
      },
      "source": [
        "#Plot a correlation heatmap of the two previous subsets\r\n",
        "\r\n",
        "df_sb3 = df.loc[df['season'] > 1949]\r\n",
        "df_sb3 = df_sb3 [['elo1_pre','elo2_pre','elo_prob1','qbelo1_pre','qbelo2_pre','qb1_value_pre','qb2_value_pre','qbelo_prob1',\r\n",
        "                  'qb1_game_value','qb2_game_value','result']]"
      ],
      "execution_count": null,
      "outputs": []
    },
    {
      "cell_type": "code",
      "metadata": {
        "colab": {
          "base_uri": "https://localhost:8080/"
        },
        "id": "xzjX7Dle7eGH",
        "outputId": "844cfb62-e554-4e48-b1f6-dbfbc47da437"
      },
      "source": [
        "df_sb3.isna().sum()"
      ],
      "execution_count": null,
      "outputs": [
        {
          "output_type": "execute_result",
          "data": {
            "text/plain": [
              "elo1_pre          0\n",
              "elo2_pre          0\n",
              "elo_prob1         0\n",
              "qbelo1_pre        0\n",
              "qbelo2_pre        0\n",
              "qb1_value_pre     0\n",
              "qb2_value_pre     0\n",
              "qbelo_prob1       0\n",
              "qb1_game_value    0\n",
              "qb2_game_value    0\n",
              "result            0\n",
              "dtype: int64"
            ]
          },
          "metadata": {
            "tags": []
          },
          "execution_count": 31
        }
      ]
    },
    {
      "cell_type": "code",
      "metadata": {
        "colab": {
          "base_uri": "https://localhost:8080/",
          "height": 656
        },
        "id": "dKpkX1LH7kU5",
        "outputId": "cc5fdba2-6b0f-4b0d-f3a8-73761a74312c"
      },
      "source": [
        "sns.set_theme(style=\"white\")\r\n",
        "corr3=df_sb3.corr()\r\n",
        "mask = np.triu(np.ones_like(corr3, dtype=bool))\r\n",
        "f, ax = plt.subplots(figsize=(20, 9))\r\n",
        "cmap = sns.diverging_palette(230, 20, as_cmap=True)\r\n",
        "heatmap=sns.heatmap(corr3, mask=mask, cmap=cmap, vmin=-1, vmax=1, center=0, square=True, linewidths=.5, cbar_kws={\"shrink\": .5}, annot=True)\r\n",
        "heatmap.set_title('Correlation Heatmap')"
      ],
      "execution_count": null,
      "outputs": [
        {
          "output_type": "execute_result",
          "data": {
            "text/plain": [
              "Text(0.5, 1.0, 'Correlation Heatmap')"
            ]
          },
          "metadata": {
            "tags": []
          },
          "execution_count": 32
        },
        {
          "output_type": "display_data",
          "data": {
            "image/png": "[encoded data removed]",
            "text/plain": [
              "<Figure size 1440x648 with 2 Axes>"
            ]
          },
          "metadata": {
            "tags": []
          }
        }
      ]
    },
    {
      "cell_type": "code",
      "metadata": {
        "id": "cSekRx9L7vNV"
      },
      "source": [
        "#Drop elo1_pre because has .99 of correlation with qbelo1_pre and second one has higher correlation with result. Same for elo2_pre and qbelo2_pre\r\n",
        "#Drop qb1_value_pre and qb2_value_pre because they just have .14 of correlation with result. \r\n",
        "#Drop elo_prob1 because has a very high correlation with qbelo_prob1 and second one is higher correlated to result. "
      ],
      "execution_count": null,
      "outputs": []
    },
    {
      "cell_type": "markdown",
      "metadata": {
        "id": "wIOv5KpV9KfZ"
      },
      "source": [
        "#First modeling"
      ]
    },
    {
      "cell_type": "code",
      "metadata": {
        "id": "xVqP-lkq9Og0"
      },
      "source": [
        "df_me = df.loc[df['season'] > 1949]\r\n",
        "df_me = df_me[['qbelo1_pre','qbelo2_pre','qbelo_prob1',\r\n",
        "                  'qb1_value_pre','qb2_value_pre','result']]"
      ],
      "execution_count": null,
      "outputs": []
    },
    {
      "cell_type": "code",
      "metadata": {
        "id": "H1q1KzE2_CBJ"
      },
      "source": [
        "X = df_me[['qbelo1_pre','qbelo2_pre','qbelo_prob1','qb1_value_pre','qb2_value_pre']]\r\n",
        "y = df_me['result']"
      ],
      "execution_count": null,
      "outputs": []
    },
    {
      "cell_type": "code",
      "metadata": {
        "id": "OJaY8xHX-Rtw"
      },
      "source": [
        "RFC = RandomForestClassifier(random_state=0, n_estimators=100)"
      ],
      "execution_count": null,
      "outputs": []
    },
    {
      "cell_type": "code",
      "metadata": {
        "colab": {
          "base_uri": "https://localhost:8080/"
        },
        "id": "Zl2kMTne97ck",
        "outputId": "c5f6f208-12c2-4d9b-a58c-de0b425366e6"
      },
      "source": [
        "kfold = model_selection.KFold(n_splits=5, random_state=0)\r\n",
        "cv_results = model_selection.cross_val_score(RFC, X, y, cv=kfold, scoring = 'roc_auc')\r\n",
        "msg = \"%f (%f)\" % (cv_results.mean(), cv_results.std())\r\n",
        "print(msg)"
      ],
      "execution_count": null,
      "outputs": [
        {
          "output_type": "stream",
          "text": [
            "/usr/local/lib/python3.6/dist-packages/sklearn/model_selection/_split.py:296: FutureWarning: Setting a random_state has no effect since shuffle is False. This will raise an error in 0.24. You should leave random_state to its default (None), or set shuffle=True.\n",
            "  FutureWarning\n"
          ],
          "name": "stderr"
        },
        {
          "output_type": "stream",
          "text": [
            "0.666343 (0.013636)\n"
          ],
          "name": "stdout"
        }
      ]
    },
    {
      "cell_type": "code",
      "metadata": {
        "id": "qoS3GnWoB_kN"
      },
      "source": [
        "train = df.copy()\r\n",
        "test = df.copy()\r\n",
        "train = train.loc[(train['season'] > 1949) & (train['season'] < 2017)]\r\n",
        "test = test.loc[test['season'] > 2016]"
      ],
      "execution_count": null,
      "outputs": []
    },
    {
      "cell_type": "code",
      "metadata": {
        "id": "gp-a84D6DWow"
      },
      "source": [
        "X_train=train[['qbelo1_pre','qbelo2_pre','qbelo_prob1','qb1_value_pre','qb2_value_pre']]\r\n",
        "y_train = train['result']\r\n",
        "\r\n",
        "X_test = test[['qbelo1_pre','qbelo2_pre','qbelo_prob1','qb1_value_pre','qb2_value_pre']]\r\n",
        "y_test = test['result']"
      ],
      "execution_count": null,
      "outputs": []
    },
    {
      "cell_type": "code",
      "metadata": {
        "colab": {
          "base_uri": "https://localhost:8080/"
        },
        "id": "qJJ6W59rERDu",
        "outputId": "cf3d94a9-cdbb-4535-d76f-5dfe2070128a"
      },
      "source": [
        "X_train.shape"
      ],
      "execution_count": null,
      "outputs": [
        {
          "output_type": "execute_result",
          "data": {
            "text/plain": [
              "(13578, 5)"
            ]
          },
          "metadata": {
            "tags": []
          },
          "execution_count": 51
        }
      ]
    },
    {
      "cell_type": "code",
      "metadata": {
        "id": "wm-1ShOWEX-l"
      },
      "source": [
        "from sklearn.ensemble import RandomForestRegressor\r\n",
        "RFG = RandomForestRegressor(n_estimators=100, random_state=42)"
      ],
      "execution_count": null,
      "outputs": []
    },
    {
      "cell_type": "code",
      "metadata": {
        "colab": {
          "base_uri": "https://localhost:8080/"
        },
        "id": "U3uZvMnuEmnd",
        "outputId": "aa0624d6-cdec-4a27-b6e5-0fb4fbd6dfaf"
      },
      "source": [
        "RFG.fit(X_train,y_train)"
      ],
      "execution_count": null,
      "outputs": [
        {
          "output_type": "execute_result",
          "data": {
            "text/plain": [
              "RandomForestRegressor(bootstrap=True, ccp_alpha=0.0, criterion='mse',\n",
              "                      max_depth=None, max_features='auto', max_leaf_nodes=None,\n",
              "                      max_samples=None, min_impurity_decrease=0.0,\n",
              "                      min_impurity_split=None, min_samples_leaf=1,\n",
              "                      min_samples_split=2, min_weight_fraction_leaf=0.0,\n",
              "                      n_estimators=100, n_jobs=None, oob_score=False,\n",
              "                      random_state=42, verbose=0, warm_start=False)"
            ]
          },
          "metadata": {
            "tags": []
          },
          "execution_count": 53
        }
      ]
    },
    {
      "cell_type": "markdown",
      "metadata": {
        "id": "OVExmwnBd644"
      },
      "source": [
        "##Evaluation"
      ]
    },
    {
      "cell_type": "code",
      "metadata": {
        "id": "onpbXgxmEyHP"
      },
      "source": [
        "results = RFG.predict(X_test)"
      ],
      "execution_count": null,
      "outputs": []
    },
    {
      "cell_type": "code",
      "metadata": {
        "id": "8xR6NRg4E63B"
      },
      "source": [
        "test.loc[:,'hm_prob'] = results\r\n",
        "test = test[['season', 'team1', 'team2', 'hm_prob', 'result']]\r\n",
        "# calulate bets won (only make a bet when probability is greater than / equal to 60% or less than / equal to 40%)\r\n",
        "test['my_bet_won'] = (((test.hm_prob >= 0.60) & (test.result == 1)) | ((test.hm_prob <= 0.40) & (test.result == 0))).astype(int)\r\n",
        "# calulate bets lost (only make a bet when probability is greater than / equal to 60% or less than / equal to 40%)\r\n",
        "test['my_bet_lost'] = (((test.hm_prob >= 0.60) & (test.result == 0)) | ((test.hm_prob <= 0.40) & (test.result == 1))).astype(int)"
      ],
      "execution_count": null,
      "outputs": []
    },
    {
      "cell_type": "code",
      "metadata": {
        "colab": {
          "base_uri": "https://localhost:8080/"
        },
        "id": "n47InZ60FeSO",
        "outputId": "229625f2-3608-4a90-95a0-3f900421a549"
      },
      "source": [
        "# printing some quick overall results for my model\r\n",
        "print(\"My Model Win Percentage: \" + \"{:.4f}\".format(test.my_bet_won.sum() / (test.my_bet_lost.sum() + test.my_bet_won.sum())))\r\n",
        "print(\"Total Number of Bets Won: \" + str(test.my_bet_won.sum()))\r\n",
        "print(\"Total Number of Bets Made: \" + str((test.my_bet_lost.sum() + test.my_bet_won.sum())))\r\n",
        "print(\"Possible Games: \" + str(len(test)))"
      ],
      "execution_count": null,
      "outputs": [
        {
          "output_type": "stream",
          "text": [
            "My Model Win Percentage: 0.6537\n",
            "Total Number of Bets Won: 470\n",
            "Total Number of Bets Made: 719\n",
            "Possible Games: 1057\n"
          ],
          "name": "stdout"
        }
      ]
    },
    {
      "cell_type": "markdown",
      "metadata": {
        "id": "s2RmdVDHo-fc"
      },
      "source": [
        "#Feature Creation"
      ]
    },
    {
      "cell_type": "markdown",
      "metadata": {
        "id": "PW71cjuGB7-k"
      },
      "source": [
        "Here we want to create 3 new features to help us imporove the result prediction. These are the following: \r\n",
        "\r\n",
        "- avg_diff: the average of the total point difference in the season.\r\n",
        "- avg_pts: average of total points scored in the season. \r\n",
        "- avg_against_pts: average of total points received in the season. "
      ]
    },
    {
      "cell_type": "code",
      "metadata": {
        "id": "6k4Prkr9Crd8"
      },
      "source": [
        "df1 = df.copy()"
      ],
      "execution_count": null,
      "outputs": []
    },
    {
      "cell_type": "code",
      "metadata": {
        "id": "IR33h4WzsELE"
      },
      "source": [
        "#Create new table with one row per team per game.\r\n",
        "games = df.groupby(['season','date', 'team1']).mean()[['score1', 'score2']].reset_index()\r\n",
        "aw_games = df.groupby(['season','date', 'team2']).mean()[['score1', 'score2']].reset_index()\r\n",
        "games['point_diff'] = games.score1 - games.score2\r\n",
        "aw_games['point_diff'] = aw_games.score2 - aw_games.score1\r\n",
        "# append the two dataframes\r\n",
        "games = games.append(aw_games, ignore_index=True, sort=True)\r\n",
        "\r\n",
        "# fill null values\r\n",
        "games.team1.fillna(games.team2, inplace=True)\r\n",
        "\r\n",
        "# sort by season and week\r\n",
        "games.sort_values(['date'], ascending = [True], inplace=True)\r\n",
        "# removing unneeded columns & changing column name\r\n",
        "games = games[['season','date', 'team1', 'score1', 'score2', 'point_diff']]\r\n",
        "games.rename(columns={'team1' : 'team'}, inplace=True)"
      ],
      "execution_count": null,
      "outputs": []
    },
    {
      "cell_type": "code",
      "metadata": {
        "id": "MPhP03yYsT7_"
      },
      "source": [
        "#Creating a dict of dataframes for each team\r\n",
        "tm_dict = {}\r\n",
        "\r\n",
        "for key in games.team.unique():\r\n",
        "  tm_dict[key] = games[games.team == key].reset_index(drop=True)"
      ],
      "execution_count": null,
      "outputs": []
    },
    {
      "cell_type": "code",
      "metadata": {
        "id": "tswrNScKs7cE"
      },
      "source": [
        "pts_diff = pd.DataFrame()\r\n",
        "\r\n",
        "for yr in games.season.unique():\r\n",
        "  #print(yr)\r\n",
        "  for tm in games.team.unique():\r\n",
        "    #print(tm)\r\n",
        "    data = tm_dict[tm].copy()\r\n",
        "    data = data[data.season == yr]\r\n",
        "    data.loc[:, 'avg_pts_diff'] = data.point_diff.shift().expanding().mean()\r\n",
        "    data.loc[:, 'total_pts'] = data.score1.shift().expanding().mean()\r\n",
        "    data.loc[:, 'total_against_pts'] = data.score2.shift().expanding().mean()\r\n",
        "    pts_diff = pts_diff.append(data)"
      ],
      "execution_count": null,
      "outputs": []
    },
    {
      "cell_type": "code",
      "metadata": {
        "id": "dIuyH_kotFDX"
      },
      "source": [
        "#Add week column just for first week of season(NaNs)\r\n",
        "pts_diff.loc[(pts_diff.avg_pts_diff.isna()),'Week'] = 1\r\n",
        "pts_diff.Week.fillna(0, inplace=True)\r\n",
        "pts_diff['Week'] = pts_diff['Week'].astype(int)\r\n",
        "\r\n",
        "#Create 3 different dataFrames to group by each stat.\r\n",
        "total_season = pts_diff.groupby(['season','team']).mean()['score1'].reset_index()\r\n",
        "total_season2= pts_diff.groupby(['season','team']).mean()['score2'].reset_index()\r\n",
        "total_season3 = pts_diff.groupby(['season','team']).mean()['point_diff'].reset_index()"
      ],
      "execution_count": null,
      "outputs": []
    },
    {
      "cell_type": "code",
      "metadata": {
        "id": "gEjUVgSkpBOJ"
      },
      "source": [
        "#Merge the 3 different grouped by stats (score1, score2, point_diff) and rename them (total_pts, total_against_pts, avg_pts_diff)\r\n",
        "total_season = total_season.merge(total_season2[['season','team','score2']],\r\n",
        "                                  left_on=['season','team'], right_on=['season','team'], how='left')\r\n",
        "\r\n",
        "total_season = total_season.merge(total_season3[['season','team','point_diff']],\r\n",
        "                                  left_on=['season','team'], right_on=['season','team'], how='left')\r\n",
        "\r\n",
        "total_season.rename(columns={'score1' : 'total_pts'}, inplace=True)\r\n",
        "total_season.rename(columns={'score2' : 'total_against_pts'}, inplace=True)\r\n",
        "total_season.rename(columns={'point_diff' : 'avg_pts_diff'}, inplace=True)\r\n",
        "\r\n",
        "#Add Week = 1 column and pass to next season so it be the weeks 1 stat\r\n",
        "total_season['Week'] = 1\r\n",
        "total_season['season'] += 1\r\n",
        "\r\n",
        "#Merge\r\n",
        "pts_diff = pts_diff.merge(total_season[['season','team','Week','total_pts','total_against_pts','avg_pts_diff']],\r\n",
        "                          left_on=['season','team','Week'],\r\n",
        "                          right_on=['season','team','Week'], how='left')\r\n",
        "\r\n",
        "pts_diff.avg_pts_diff_x.fillna(pts_diff.avg_pts_diff_y, inplace=True)\r\n",
        "pts_diff.total_pts_x.fillna(pts_diff.total_pts_y, inplace=True)\r\n",
        "pts_diff.total_against_pts_x.fillna(pts_diff.total_against_pts_y, inplace=True)\r\n",
        "#drop _y columns and rename _x columns\r\n",
        "pts_diff.drop(columns=['avg_pts_diff_y','total_pts_y','total_against_pts_y'], inplace=True)\r\n",
        "pts_diff.columns = pts_diff.columns.str.replace('_x', '')"
      ],
      "execution_count": null,
      "outputs": []
    },
    {
      "cell_type": "code",
      "metadata": {
        "id": "hZtY8qOZu8Z-"
      },
      "source": [
        "#merge new attributes to the original dataframe. For both home and away teams.\r\n",
        "df1 = df1.merge(pts_diff[['season','date','team','avg_pts_diff','total_pts','total_against_pts']],\r\n",
        "      left_on=['season','date','team1'],\r\n",
        "      right_on=['season','date','team'], how='left')\r\n",
        "df1.rename(columns={'avg_pts_diff' : 'hm_avg_diff'}, inplace=True)\r\n",
        "df1.rename(columns={'total_pts' : 'hm_avg_pts'}, inplace=True)\r\n",
        "df1.rename(columns={'total_against_pts' : 'hm_avg_against_pts'}, inplace=True)\r\n",
        "\r\n",
        "df1 = df1.merge(pts_diff[['season','date','team','avg_pts_diff','total_pts','total_against_pts']],\r\n",
        "      left_on=['season','date','team2'],\r\n",
        "      right_on=['season','date','team'], how='left')\r\n",
        "df1.rename(columns={'avg_pts_diff' : 'aw_avg_diff'}, inplace=True)\r\n",
        "df1.rename(columns={'total_pts' : 'aw_avg_pts'}, inplace=True)\r\n",
        "df1.rename(columns={'total_against_pts' : 'aw_avg_against_pts'}, inplace=True)"
      ],
      "execution_count": null,
      "outputs": []
    },
    {
      "cell_type": "code",
      "metadata": {
        "colab": {
          "base_uri": "https://localhost:8080/",
          "height": 534
        },
        "id": "K3FzoOYbCu14",
        "outputId": "8d29ab61-8e21-4521-94d2-0d6d8d572c2e"
      },
      "source": [
        "df1.tail(10)"
      ],
      "execution_count": null,
      "outputs": [
        {
          "output_type": "execute_result",
          "data": {
            "text/html": [
              "<div>\n",
              "<style scoped>\n",
              "    .dataframe tbody tr th:only-of-type {\n",
              "        vertical-align: middle;\n",
              "    }\n",
              "\n",
              "    .dataframe tbody tr th {\n",
              "        vertical-align: top;\n",
              "    }\n",
              "\n",
              "    .dataframe thead th {\n",
              "        text-align: right;\n",
              "    }\n",
              "</style>\n",
              "<table border=\"1\" class=\"dataframe\">\n",
              "  <thead>\n",
              "    <tr style=\"text-align: right;\">\n",
              "      <th></th>\n",
              "      <th>date</th>\n",
              "      <th>season</th>\n",
              "      <th>team1</th>\n",
              "      <th>team2</th>\n",
              "      <th>elo1_pre</th>\n",
              "      <th>elo2_pre</th>\n",
              "      <th>elo_prob1</th>\n",
              "      <th>elo_prob2</th>\n",
              "      <th>qbelo1_pre</th>\n",
              "      <th>qbelo2_pre</th>\n",
              "      <th>qb1_value_pre</th>\n",
              "      <th>qb2_value_pre</th>\n",
              "      <th>qb1_adj</th>\n",
              "      <th>qb2_adj</th>\n",
              "      <th>qbelo_prob1</th>\n",
              "      <th>qbelo_prob2</th>\n",
              "      <th>qb1_game_value</th>\n",
              "      <th>qb2_game_value</th>\n",
              "      <th>score1</th>\n",
              "      <th>score2</th>\n",
              "      <th>result</th>\n",
              "      <th>team_x</th>\n",
              "      <th>hm_avg_diff</th>\n",
              "      <th>hm_avg_pts</th>\n",
              "      <th>hm_avg_against_pts</th>\n",
              "      <th>team_y</th>\n",
              "      <th>aw_avg_diff</th>\n",
              "      <th>aw_avg_pts</th>\n",
              "      <th>aw_avg_against_pts</th>\n",
              "    </tr>\n",
              "  </thead>\n",
              "  <tbody>\n",
              "    <tr>\n",
              "      <th>16787</th>\n",
              "      <td>2021-01-03</td>\n",
              "      <td>2020</td>\n",
              "      <td>CIN</td>\n",
              "      <td>BAL</td>\n",
              "      <td>1382.193725</td>\n",
              "      <td>1637.701017</td>\n",
              "      <td>0.250368</td>\n",
              "      <td>0.749632</td>\n",
              "      <td>1416.857420</td>\n",
              "      <td>1640.537594</td>\n",
              "      <td>62.876847</td>\n",
              "      <td>249.500009</td>\n",
              "      <td>-78.305602</td>\n",
              "      <td>13.807112</td>\n",
              "      <td>0.165461</td>\n",
              "      <td>0.834539</td>\n",
              "      <td>-138.770731</td>\n",
              "      <td>250.156648</td>\n",
              "      <td>3.0</td>\n",
              "      <td>38.0</td>\n",
              "      <td>0</td>\n",
              "      <td>CIN</td>\n",
              "      <td>-5.200000</td>\n",
              "      <td>25.600000</td>\n",
              "      <td>20.666667</td>\n",
              "      <td>BAL</td>\n",
              "      <td>8.666667</td>\n",
              "      <td>25.933333</td>\n",
              "      <td>22.733333</td>\n",
              "    </tr>\n",
              "    <tr>\n",
              "      <th>16788</th>\n",
              "      <td>2021-01-03</td>\n",
              "      <td>2020</td>\n",
              "      <td>SF</td>\n",
              "      <td>SEA</td>\n",
              "      <td>1494.784619</td>\n",
              "      <td>1617.482789</td>\n",
              "      <td>0.417721</td>\n",
              "      <td>0.582279</td>\n",
              "      <td>1513.721342</td>\n",
              "      <td>1609.205246</td>\n",
              "      <td>102.850851</td>\n",
              "      <td>204.114710</td>\n",
              "      <td>-20.681589</td>\n",
              "      <td>-2.837338</td>\n",
              "      <td>0.390153</td>\n",
              "      <td>0.609847</td>\n",
              "      <td>172.799305</td>\n",
              "      <td>157.993876</td>\n",
              "      <td>23.0</td>\n",
              "      <td>26.0</td>\n",
              "      <td>0</td>\n",
              "      <td>SF</td>\n",
              "      <td>-0.733333</td>\n",
              "      <td>20.133333</td>\n",
              "      <td>27.666667</td>\n",
              "      <td>SEA</td>\n",
              "      <td>5.666667</td>\n",
              "      <td>28.066667</td>\n",
              "      <td>24.000000</td>\n",
              "    </tr>\n",
              "    <tr>\n",
              "      <th>16789</th>\n",
              "      <td>2021-01-03</td>\n",
              "      <td>2020</td>\n",
              "      <td>IND</td>\n",
              "      <td>JAX</td>\n",
              "      <td>1592.832646</td>\n",
              "      <td>1260.258714</td>\n",
              "      <td>0.907930</td>\n",
              "      <td>0.092070</td>\n",
              "      <td>1589.274905</td>\n",
              "      <td>1259.472090</td>\n",
              "      <td>179.525964</td>\n",
              "      <td>106.567090</td>\n",
              "      <td>10.841613</td>\n",
              "      <td>-10.082140</td>\n",
              "      <td>0.902476</td>\n",
              "      <td>0.097524</td>\n",
              "      <td>35.239772</td>\n",
              "      <td>72.949034</td>\n",
              "      <td>28.0</td>\n",
              "      <td>14.0</td>\n",
              "      <td>1</td>\n",
              "      <td>IND</td>\n",
              "      <td>5.000000</td>\n",
              "      <td>25.000000</td>\n",
              "      <td>26.400000</td>\n",
              "      <td>JAX</td>\n",
              "      <td>-11.466667</td>\n",
              "      <td>24.133333</td>\n",
              "      <td>26.266667</td>\n",
              "    </tr>\n",
              "    <tr>\n",
              "      <th>16790</th>\n",
              "      <td>2021-01-03</td>\n",
              "      <td>2020</td>\n",
              "      <td>KC</td>\n",
              "      <td>LAC</td>\n",
              "      <td>1777.933310</td>\n",
              "      <td>1427.636782</td>\n",
              "      <td>0.916111</td>\n",
              "      <td>0.083889</td>\n",
              "      <td>1757.263199</td>\n",
              "      <td>1426.672867</td>\n",
              "      <td>86.419144</td>\n",
              "      <td>186.524342</td>\n",
              "      <td>-178.353835</td>\n",
              "      <td>15.254958</td>\n",
              "      <td>0.733018</td>\n",
              "      <td>0.266982</td>\n",
              "      <td>236.702023</td>\n",
              "      <td>317.173593</td>\n",
              "      <td>21.0</td>\n",
              "      <td>38.0</td>\n",
              "      <td>0</td>\n",
              "      <td>KC</td>\n",
              "      <td>8.533333</td>\n",
              "      <td>25.533333</td>\n",
              "      <td>26.200000</td>\n",
              "      <td>LAC</td>\n",
              "      <td>-3.933333</td>\n",
              "      <td>24.600000</td>\n",
              "      <td>25.466667</td>\n",
              "    </tr>\n",
              "    <tr>\n",
              "      <th>16791</th>\n",
              "      <td>2021-01-03</td>\n",
              "      <td>2020</td>\n",
              "      <td>HOU</td>\n",
              "      <td>TEN</td>\n",
              "      <td>1405.446866</td>\n",
              "      <td>1590.293046</td>\n",
              "      <td>0.334058</td>\n",
              "      <td>0.665942</td>\n",
              "      <td>1379.429399</td>\n",
              "      <td>1563.617486</td>\n",
              "      <td>251.762944</td>\n",
              "      <td>214.182197</td>\n",
              "      <td>22.408442</td>\n",
              "      <td>13.054897</td>\n",
              "      <td>0.309814</td>\n",
              "      <td>0.690186</td>\n",
              "      <td>224.752531</td>\n",
              "      <td>241.915792</td>\n",
              "      <td>38.0</td>\n",
              "      <td>41.0</td>\n",
              "      <td>0</td>\n",
              "      <td>HOU</td>\n",
              "      <td>-5.133333</td>\n",
              "      <td>26.266667</td>\n",
              "      <td>25.000000</td>\n",
              "      <td>TEN</td>\n",
              "      <td>3.266667</td>\n",
              "      <td>29.200000</td>\n",
              "      <td>27.533333</td>\n",
              "    </tr>\n",
              "    <tr>\n",
              "      <th>16792</th>\n",
              "      <td>2021-01-03</td>\n",
              "      <td>2020</td>\n",
              "      <td>DEN</td>\n",
              "      <td>OAK</td>\n",
              "      <td>1430.051399</td>\n",
              "      <td>1449.188398</td>\n",
              "      <td>0.565621</td>\n",
              "      <td>0.434379</td>\n",
              "      <td>1436.714473</td>\n",
              "      <td>1459.179311</td>\n",
              "      <td>103.818316</td>\n",
              "      <td>189.686666</td>\n",
              "      <td>10.185265</td>\n",
              "      <td>0.349403</td>\n",
              "      <td>0.532775</td>\n",
              "      <td>0.467225</td>\n",
              "      <td>216.114816</td>\n",
              "      <td>136.534184</td>\n",
              "      <td>31.0</td>\n",
              "      <td>32.0</td>\n",
              "      <td>0</td>\n",
              "      <td>DEN</td>\n",
              "      <td>-8.133333</td>\n",
              "      <td>21.200000</td>\n",
              "      <td>25.866667</td>\n",
              "      <td>OAK</td>\n",
              "      <td>-3.000000</td>\n",
              "      <td>28.333333</td>\n",
              "      <td>28.266667</td>\n",
              "    </tr>\n",
              "    <tr>\n",
              "      <th>16793</th>\n",
              "      <td>2021-01-03</td>\n",
              "      <td>2020</td>\n",
              "      <td>CAR</td>\n",
              "      <td>NO</td>\n",
              "      <td>1416.879291</td>\n",
              "      <td>1681.113286</td>\n",
              "      <td>0.241059</td>\n",
              "      <td>0.758941</td>\n",
              "      <td>1431.820760</td>\n",
              "      <td>1718.441448</td>\n",
              "      <td>176.810004</td>\n",
              "      <td>225.026845</td>\n",
              "      <td>14.638327</td>\n",
              "      <td>0.930206</td>\n",
              "      <td>0.203252</td>\n",
              "      <td>0.796748</td>\n",
              "      <td>-16.099728</td>\n",
              "      <td>197.627645</td>\n",
              "      <td>7.0</td>\n",
              "      <td>33.0</td>\n",
              "      <td>0</td>\n",
              "      <td>CAR</td>\n",
              "      <td>-1.733333</td>\n",
              "      <td>23.466667</td>\n",
              "      <td>24.000000</td>\n",
              "      <td>NO</td>\n",
              "      <td>7.933333</td>\n",
              "      <td>25.666667</td>\n",
              "      <td>26.266667</td>\n",
              "    </tr>\n",
              "    <tr>\n",
              "      <th>16794</th>\n",
              "      <td>2021-01-03</td>\n",
              "      <td>2020</td>\n",
              "      <td>CHI</td>\n",
              "      <td>GB</td>\n",
              "      <td>1521.382026</td>\n",
              "      <td>1678.962501</td>\n",
              "      <td>0.369832</td>\n",
              "      <td>0.630168</td>\n",
              "      <td>1516.512893</td>\n",
              "      <td>1655.433657</td>\n",
              "      <td>156.935460</td>\n",
              "      <td>257.967788</td>\n",
              "      <td>15.128915</td>\n",
              "      <td>25.227266</td>\n",
              "      <td>0.339926</td>\n",
              "      <td>0.660074</td>\n",
              "      <td>235.974167</td>\n",
              "      <td>344.789454</td>\n",
              "      <td>16.0</td>\n",
              "      <td>35.0</td>\n",
              "      <td>0</td>\n",
              "      <td>CHI</td>\n",
              "      <td>1.400000</td>\n",
              "      <td>23.200000</td>\n",
              "      <td>22.866667</td>\n",
              "      <td>GB</td>\n",
              "      <td>8.066667</td>\n",
              "      <td>30.000000</td>\n",
              "      <td>25.133333</td>\n",
              "    </tr>\n",
              "    <tr>\n",
              "      <th>16795</th>\n",
              "      <td>2021-01-03</td>\n",
              "      <td>2020</td>\n",
              "      <td>LAR</td>\n",
              "      <td>ARI</td>\n",
              "      <td>1573.922178</td>\n",
              "      <td>1491.090011</td>\n",
              "      <td>0.700775</td>\n",
              "      <td>0.299225</td>\n",
              "      <td>1562.745220</td>\n",
              "      <td>1472.139393</td>\n",
              "      <td>28.112040</td>\n",
              "      <td>253.223925</td>\n",
              "      <td>-142.170953</td>\n",
              "      <td>28.505249</td>\n",
              "      <td>0.434655</td>\n",
              "      <td>0.565345</td>\n",
              "      <td>106.453285</td>\n",
              "      <td>57.217468</td>\n",
              "      <td>18.0</td>\n",
              "      <td>7.0</td>\n",
              "      <td>1</td>\n",
              "      <td>LAR</td>\n",
              "      <td>4.333333</td>\n",
              "      <td>22.400000</td>\n",
              "      <td>20.466667</td>\n",
              "      <td>ARI</td>\n",
              "      <td>3.600000</td>\n",
              "      <td>23.466667</td>\n",
              "      <td>26.666667</td>\n",
              "    </tr>\n",
              "    <tr>\n",
              "      <th>16796</th>\n",
              "      <td>2021-01-03</td>\n",
              "      <td>2020</td>\n",
              "      <td>PHI</td>\n",
              "      <td>WSH</td>\n",
              "      <td>1409.246198</td>\n",
              "      <td>1434.907496</td>\n",
              "      <td>0.556372</td>\n",
              "      <td>0.443628</td>\n",
              "      <td>1410.872779</td>\n",
              "      <td>1435.271322</td>\n",
              "      <td>129.237211</td>\n",
              "      <td>117.671499</td>\n",
              "      <td>-4.709325</td>\n",
              "      <td>31.183061</td>\n",
              "      <td>0.461457</td>\n",
              "      <td>0.538543</td>\n",
              "      <td>32.161337</td>\n",
              "      <td>3.902425</td>\n",
              "      <td>14.0</td>\n",
              "      <td>20.0</td>\n",
              "      <td>0</td>\n",
              "      <td>PHI</td>\n",
              "      <td>-5.200000</td>\n",
              "      <td>26.000000</td>\n",
              "      <td>21.866667</td>\n",
              "      <td>WSH</td>\n",
              "      <td>0.000000</td>\n",
              "      <td>20.600000</td>\n",
              "      <td>21.400000</td>\n",
              "    </tr>\n",
              "  </tbody>\n",
              "</table>\n",
              "</div>"
            ],
            "text/plain": [
              "            date  season team1  ... aw_avg_diff  aw_avg_pts  aw_avg_against_pts\n",
              "16787 2021-01-03    2020   CIN  ...    8.666667   25.933333           22.733333\n",
              "16788 2021-01-03    2020    SF  ...    5.666667   28.066667           24.000000\n",
              "16789 2021-01-03    2020   IND  ...  -11.466667   24.133333           26.266667\n",
              "16790 2021-01-03    2020    KC  ...   -3.933333   24.600000           25.466667\n",
              "16791 2021-01-03    2020   HOU  ...    3.266667   29.200000           27.533333\n",
              "16792 2021-01-03    2020   DEN  ...   -3.000000   28.333333           28.266667\n",
              "16793 2021-01-03    2020   CAR  ...    7.933333   25.666667           26.266667\n",
              "16794 2021-01-03    2020   CHI  ...    8.066667   30.000000           25.133333\n",
              "16795 2021-01-03    2020   LAR  ...    3.600000   23.466667           26.666667\n",
              "16796 2021-01-03    2020   PHI  ...    0.000000   20.600000           21.400000\n",
              "\n",
              "[10 rows x 29 columns]"
            ]
          },
          "metadata": {
            "tags": []
          },
          "execution_count": 64
        }
      ]
    },
    {
      "cell_type": "markdown",
      "metadata": {
        "id": "-QUNB4CStQ_m"
      },
      "source": [
        "##Correlation of new features"
      ]
    },
    {
      "cell_type": "code",
      "metadata": {
        "id": "4f5j6j90tQPq"
      },
      "source": [
        "df1.tail(2)"
      ],
      "execution_count": null,
      "outputs": []
    },
    {
      "cell_type": "code",
      "metadata": {
        "id": "7POyieHY7q2G"
      },
      "source": [
        "df_sb4 = df1[['qbelo1_pre','qbelo2_pre','qbelo_prob1','hm_avg_diff','hm_avg_pts','hm_avg_against_pts',\r\n",
        "               'aw_avg_diff','aw_avg_pts','aw_avg_against_pts','result']]"
      ],
      "execution_count": null,
      "outputs": []
    },
    {
      "cell_type": "code",
      "metadata": {
        "colab": {
          "base_uri": "https://localhost:8080/",
          "height": 367
        },
        "id": "mzRmkeNt8jnU",
        "outputId": "50e322f8-d3ac-4f3a-c050-e2d44a13bc48"
      },
      "source": [
        "df_sb4.corr()"
      ],
      "execution_count": null,
      "outputs": [
        {
          "output_type": "execute_result",
          "data": {
            "text/html": [
              "<div>\n",
              "<style scoped>\n",
              "    .dataframe tbody tr th:only-of-type {\n",
              "        vertical-align: middle;\n",
              "    }\n",
              "\n",
              "    .dataframe tbody tr th {\n",
              "        vertical-align: top;\n",
              "    }\n",
              "\n",
              "    .dataframe thead th {\n",
              "        text-align: right;\n",
              "    }\n",
              "</style>\n",
              "<table border=\"1\" class=\"dataframe\">\n",
              "  <thead>\n",
              "    <tr style=\"text-align: right;\">\n",
              "      <th></th>\n",
              "      <th>qbelo1_pre</th>\n",
              "      <th>qbelo2_pre</th>\n",
              "      <th>qbelo_prob1</th>\n",
              "      <th>hm_avg_diff</th>\n",
              "      <th>hm_avg_pts</th>\n",
              "      <th>hm_avg_against_pts</th>\n",
              "      <th>aw_avg_diff</th>\n",
              "      <th>aw_avg_pts</th>\n",
              "      <th>aw_avg_against_pts</th>\n",
              "      <th>result</th>\n",
              "    </tr>\n",
              "  </thead>\n",
              "  <tbody>\n",
              "    <tr>\n",
              "      <th>qbelo1_pre</th>\n",
              "      <td>1.000000</td>\n",
              "      <td>0.069888</td>\n",
              "      <td>0.668882</td>\n",
              "      <td>0.737506</td>\n",
              "      <td>0.004619</td>\n",
              "      <td>0.071105</td>\n",
              "      <td>0.031721</td>\n",
              "      <td>-0.023696</td>\n",
              "      <td>0.000852</td>\n",
              "      <td>0.240886</td>\n",
              "    </tr>\n",
              "    <tr>\n",
              "      <th>qbelo2_pre</th>\n",
              "      <td>0.069888</td>\n",
              "      <td>1.000000</td>\n",
              "      <td>-0.640435</td>\n",
              "      <td>0.039150</td>\n",
              "      <td>0.016110</td>\n",
              "      <td>-0.025280</td>\n",
              "      <td>0.731784</td>\n",
              "      <td>0.109893</td>\n",
              "      <td>-0.045596</td>\n",
              "      <td>-0.222172</td>\n",
              "    </tr>\n",
              "    <tr>\n",
              "      <th>qbelo_prob1</th>\n",
              "      <td>0.668882</td>\n",
              "      <td>-0.640435</td>\n",
              "      <td>1.000000</td>\n",
              "      <td>0.518383</td>\n",
              "      <td>0.001755</td>\n",
              "      <td>0.080813</td>\n",
              "      <td>-0.501319</td>\n",
              "      <td>-0.113210</td>\n",
              "      <td>0.016045</td>\n",
              "      <td>0.348883</td>\n",
              "    </tr>\n",
              "    <tr>\n",
              "      <th>hm_avg_diff</th>\n",
              "      <td>0.737506</td>\n",
              "      <td>0.039150</td>\n",
              "      <td>0.518383</td>\n",
              "      <td>1.000000</td>\n",
              "      <td>-0.040526</td>\n",
              "      <td>0.038241</td>\n",
              "      <td>0.025923</td>\n",
              "      <td>-0.050729</td>\n",
              "      <td>-0.041895</td>\n",
              "      <td>0.220551</td>\n",
              "    </tr>\n",
              "    <tr>\n",
              "      <th>hm_avg_pts</th>\n",
              "      <td>0.004619</td>\n",
              "      <td>0.016110</td>\n",
              "      <td>0.001755</td>\n",
              "      <td>-0.040526</td>\n",
              "      <td>1.000000</td>\n",
              "      <td>0.332757</td>\n",
              "      <td>0.025589</td>\n",
              "      <td>0.269320</td>\n",
              "      <td>0.293345</td>\n",
              "      <td>-0.038452</td>\n",
              "    </tr>\n",
              "    <tr>\n",
              "      <th>hm_avg_against_pts</th>\n",
              "      <td>0.071105</td>\n",
              "      <td>-0.025280</td>\n",
              "      <td>0.080813</td>\n",
              "      <td>0.038241</td>\n",
              "      <td>0.332757</td>\n",
              "      <td>1.000000</td>\n",
              "      <td>-0.003543</td>\n",
              "      <td>0.297493</td>\n",
              "      <td>0.387655</td>\n",
              "      <td>-0.008404</td>\n",
              "    </tr>\n",
              "    <tr>\n",
              "      <th>aw_avg_diff</th>\n",
              "      <td>0.031721</td>\n",
              "      <td>0.731784</td>\n",
              "      <td>-0.501319</td>\n",
              "      <td>0.025923</td>\n",
              "      <td>0.025589</td>\n",
              "      <td>-0.003543</td>\n",
              "      <td>1.000000</td>\n",
              "      <td>0.105740</td>\n",
              "      <td>-0.029248</td>\n",
              "      <td>-0.187795</td>\n",
              "    </tr>\n",
              "    <tr>\n",
              "      <th>aw_avg_pts</th>\n",
              "      <td>-0.023696</td>\n",
              "      <td>0.109893</td>\n",
              "      <td>-0.113210</td>\n",
              "      <td>-0.050729</td>\n",
              "      <td>0.269320</td>\n",
              "      <td>0.297493</td>\n",
              "      <td>0.105740</td>\n",
              "      <td>1.000000</td>\n",
              "      <td>0.318195</td>\n",
              "      <td>-0.067019</td>\n",
              "    </tr>\n",
              "    <tr>\n",
              "      <th>aw_avg_against_pts</th>\n",
              "      <td>0.000852</td>\n",
              "      <td>-0.045596</td>\n",
              "      <td>0.016045</td>\n",
              "      <td>-0.041895</td>\n",
              "      <td>0.293345</td>\n",
              "      <td>0.387655</td>\n",
              "      <td>-0.029248</td>\n",
              "      <td>0.318195</td>\n",
              "      <td>1.000000</td>\n",
              "      <td>-0.034347</td>\n",
              "    </tr>\n",
              "    <tr>\n",
              "      <th>result</th>\n",
              "      <td>0.240886</td>\n",
              "      <td>-0.222172</td>\n",
              "      <td>0.348883</td>\n",
              "      <td>0.220551</td>\n",
              "      <td>-0.038452</td>\n",
              "      <td>-0.008404</td>\n",
              "      <td>-0.187795</td>\n",
              "      <td>-0.067019</td>\n",
              "      <td>-0.034347</td>\n",
              "      <td>1.000000</td>\n",
              "    </tr>\n",
              "  </tbody>\n",
              "</table>\n",
              "</div>"
            ],
            "text/plain": [
              "                    qbelo1_pre  qbelo2_pre  ...  aw_avg_against_pts    result\n",
              "qbelo1_pre            1.000000    0.069888  ...            0.000852  0.240886\n",
              "qbelo2_pre            0.069888    1.000000  ...           -0.045596 -0.222172\n",
              "qbelo_prob1           0.668882   -0.640435  ...            0.016045  0.348883\n",
              "hm_avg_diff           0.737506    0.039150  ...           -0.041895  0.220551\n",
              "hm_avg_pts            0.004619    0.016110  ...            0.293345 -0.038452\n",
              "hm_avg_against_pts    0.071105   -0.025280  ...            0.387655 -0.008404\n",
              "aw_avg_diff           0.031721    0.731784  ...           -0.029248 -0.187795\n",
              "aw_avg_pts           -0.023696    0.109893  ...            0.318195 -0.067019\n",
              "aw_avg_against_pts    0.000852   -0.045596  ...            1.000000 -0.034347\n",
              "result                0.240886   -0.222172  ...           -0.034347  1.000000\n",
              "\n",
              "[10 rows x 10 columns]"
            ]
          },
          "metadata": {
            "tags": []
          },
          "execution_count": 66
        }
      ]
    },
    {
      "cell_type": "code",
      "metadata": {
        "colab": {
          "base_uri": "https://localhost:8080/",
          "height": 675
        },
        "id": "LCD4aL9Z8lID",
        "outputId": "7812534e-4672-4857-d48c-03be2a795ed0"
      },
      "source": [
        "sns.set_theme(style=\"white\")\r\n",
        "corr4=df_sb4.corr()\r\n",
        "mask = np.triu(np.ones_like(corr4, dtype=bool))\r\n",
        "f, ax = plt.subplots(figsize=(20, 9))\r\n",
        "cmap = sns.diverging_palette(230, 20, as_cmap=True)\r\n",
        "heatmap=sns.heatmap(corr4, mask=mask, cmap=cmap, vmin=-1, vmax=1, center=0, square=True, linewidths=.5, cbar_kws={\"shrink\": .5}, annot=True)\r\n",
        "heatmap.set_title('Correlation Heatmap')"
      ],
      "execution_count": null,
      "outputs": [
        {
          "output_type": "execute_result",
          "data": {
            "text/plain": [
              "Text(0.5, 1.0, 'Correlation Heatmap')"
            ]
          },
          "metadata": {
            "tags": []
          },
          "execution_count": 67
        },
        {
          "output_type": "display_data",
          "data": {
            "image/png": "[encoded data removed]",
            "text/plain": [
              "<Figure size 1440x648 with 2 Axes>"
            ]
          },
          "metadata": {
            "tags": []
          }
        }
      ]
    },
    {
      "cell_type": "code",
      "metadata": {
        "id": "iLjxKay_8vyY"
      },
      "source": [
        "#Discard the features avg_points and avg_against_pts because they have low correlation with result"
      ],
      "execution_count": null,
      "outputs": []
    },
    {
      "cell_type": "markdown",
      "metadata": {
        "id": "go3hVnIhJDay"
      },
      "source": [
        "#Second modeling"
      ]
    },
    {
      "cell_type": "code",
      "metadata": {
        "colab": {
          "base_uri": "https://localhost:8080/",
          "height": 301
        },
        "id": "z6VNBwdIo-Q_",
        "outputId": "82ec3db0-3487-4106-f532-6ebb974b37c2"
      },
      "source": [
        "df1.head()"
      ],
      "execution_count": null,
      "outputs": [
        {
          "output_type": "execute_result",
          "data": {
            "text/html": [
              "<div>\n",
              "<style scoped>\n",
              "    .dataframe tbody tr th:only-of-type {\n",
              "        vertical-align: middle;\n",
              "    }\n",
              "\n",
              "    .dataframe tbody tr th {\n",
              "        vertical-align: top;\n",
              "    }\n",
              "\n",
              "    .dataframe thead th {\n",
              "        text-align: right;\n",
              "    }\n",
              "</style>\n",
              "<table border=\"1\" class=\"dataframe\">\n",
              "  <thead>\n",
              "    <tr style=\"text-align: right;\">\n",
              "      <th></th>\n",
              "      <th>date</th>\n",
              "      <th>season</th>\n",
              "      <th>team1</th>\n",
              "      <th>team2</th>\n",
              "      <th>elo1_pre</th>\n",
              "      <th>elo2_pre</th>\n",
              "      <th>elo_prob1</th>\n",
              "      <th>elo_prob2</th>\n",
              "      <th>qbelo1_pre</th>\n",
              "      <th>qbelo2_pre</th>\n",
              "      <th>qb1_value_pre</th>\n",
              "      <th>qb2_value_pre</th>\n",
              "      <th>qb1_adj</th>\n",
              "      <th>qb2_adj</th>\n",
              "      <th>qbelo_prob1</th>\n",
              "      <th>qbelo_prob2</th>\n",
              "      <th>qb1_game_value</th>\n",
              "      <th>qb2_game_value</th>\n",
              "      <th>score1</th>\n",
              "      <th>score2</th>\n",
              "      <th>result</th>\n",
              "      <th>team_x</th>\n",
              "      <th>hm_avg_diff</th>\n",
              "      <th>hm_avg_pts</th>\n",
              "      <th>hm_avg_against_pts</th>\n",
              "      <th>team_y</th>\n",
              "      <th>aw_avg_diff</th>\n",
              "      <th>aw_avg_pts</th>\n",
              "      <th>aw_avg_against_pts</th>\n",
              "    </tr>\n",
              "  </thead>\n",
              "  <tbody>\n",
              "    <tr>\n",
              "      <th>0</th>\n",
              "      <td>1920-09-26</td>\n",
              "      <td>1920</td>\n",
              "      <td>RII</td>\n",
              "      <td>STP</td>\n",
              "      <td>1503.947</td>\n",
              "      <td>1300.0</td>\n",
              "      <td>0.824651</td>\n",
              "      <td>0.175349</td>\n",
              "      <td>NaN</td>\n",
              "      <td>NaN</td>\n",
              "      <td>NaN</td>\n",
              "      <td>NaN</td>\n",
              "      <td>NaN</td>\n",
              "      <td>NaN</td>\n",
              "      <td>NaN</td>\n",
              "      <td>NaN</td>\n",
              "      <td>NaN</td>\n",
              "      <td>NaN</td>\n",
              "      <td>48.0</td>\n",
              "      <td>0.0</td>\n",
              "      <td>1</td>\n",
              "      <td>RII</td>\n",
              "      <td>NaN</td>\n",
              "      <td>NaN</td>\n",
              "      <td>NaN</td>\n",
              "      <td>STP</td>\n",
              "      <td>NaN</td>\n",
              "      <td>NaN</td>\n",
              "      <td>NaN</td>\n",
              "    </tr>\n",
              "    <tr>\n",
              "      <th>1</th>\n",
              "      <td>1920-10-03</td>\n",
              "      <td>1920</td>\n",
              "      <td>RCH</td>\n",
              "      <td>ABU</td>\n",
              "      <td>1503.420</td>\n",
              "      <td>1300.0</td>\n",
              "      <td>0.824212</td>\n",
              "      <td>0.175788</td>\n",
              "      <td>NaN</td>\n",
              "      <td>NaN</td>\n",
              "      <td>NaN</td>\n",
              "      <td>NaN</td>\n",
              "      <td>NaN</td>\n",
              "      <td>NaN</td>\n",
              "      <td>NaN</td>\n",
              "      <td>NaN</td>\n",
              "      <td>NaN</td>\n",
              "      <td>NaN</td>\n",
              "      <td>10.0</td>\n",
              "      <td>0.0</td>\n",
              "      <td>1</td>\n",
              "      <td>RCH</td>\n",
              "      <td>NaN</td>\n",
              "      <td>NaN</td>\n",
              "      <td>NaN</td>\n",
              "      <td>ABU</td>\n",
              "      <td>NaN</td>\n",
              "      <td>NaN</td>\n",
              "      <td>NaN</td>\n",
              "    </tr>\n",
              "    <tr>\n",
              "      <th>2</th>\n",
              "      <td>1920-10-03</td>\n",
              "      <td>1920</td>\n",
              "      <td>BFF</td>\n",
              "      <td>WBU</td>\n",
              "      <td>1478.004</td>\n",
              "      <td>1300.0</td>\n",
              "      <td>0.802000</td>\n",
              "      <td>0.198000</td>\n",
              "      <td>NaN</td>\n",
              "      <td>NaN</td>\n",
              "      <td>NaN</td>\n",
              "      <td>NaN</td>\n",
              "      <td>NaN</td>\n",
              "      <td>NaN</td>\n",
              "      <td>NaN</td>\n",
              "      <td>NaN</td>\n",
              "      <td>NaN</td>\n",
              "      <td>NaN</td>\n",
              "      <td>32.0</td>\n",
              "      <td>6.0</td>\n",
              "      <td>1</td>\n",
              "      <td>BFF</td>\n",
              "      <td>NaN</td>\n",
              "      <td>NaN</td>\n",
              "      <td>NaN</td>\n",
              "      <td>WBU</td>\n",
              "      <td>NaN</td>\n",
              "      <td>NaN</td>\n",
              "      <td>NaN</td>\n",
              "    </tr>\n",
              "    <tr>\n",
              "      <th>3</th>\n",
              "      <td>1920-10-03</td>\n",
              "      <td>1920</td>\n",
              "      <td>AKR</td>\n",
              "      <td>WHE</td>\n",
              "      <td>1503.420</td>\n",
              "      <td>1300.0</td>\n",
              "      <td>0.824212</td>\n",
              "      <td>0.175788</td>\n",
              "      <td>NaN</td>\n",
              "      <td>NaN</td>\n",
              "      <td>NaN</td>\n",
              "      <td>NaN</td>\n",
              "      <td>NaN</td>\n",
              "      <td>NaN</td>\n",
              "      <td>NaN</td>\n",
              "      <td>NaN</td>\n",
              "      <td>NaN</td>\n",
              "      <td>NaN</td>\n",
              "      <td>43.0</td>\n",
              "      <td>0.0</td>\n",
              "      <td>1</td>\n",
              "      <td>AKR</td>\n",
              "      <td>NaN</td>\n",
              "      <td>NaN</td>\n",
              "      <td>NaN</td>\n",
              "      <td>WHE</td>\n",
              "      <td>NaN</td>\n",
              "      <td>NaN</td>\n",
              "      <td>NaN</td>\n",
              "    </tr>\n",
              "    <tr>\n",
              "      <th>4</th>\n",
              "      <td>1920-10-03</td>\n",
              "      <td>1920</td>\n",
              "      <td>CBD</td>\n",
              "      <td>PTQ</td>\n",
              "      <td>1504.688</td>\n",
              "      <td>1300.0</td>\n",
              "      <td>0.825267</td>\n",
              "      <td>0.174733</td>\n",
              "      <td>NaN</td>\n",
              "      <td>NaN</td>\n",
              "      <td>NaN</td>\n",
              "      <td>NaN</td>\n",
              "      <td>NaN</td>\n",
              "      <td>NaN</td>\n",
              "      <td>NaN</td>\n",
              "      <td>NaN</td>\n",
              "      <td>NaN</td>\n",
              "      <td>NaN</td>\n",
              "      <td>48.0</td>\n",
              "      <td>0.0</td>\n",
              "      <td>1</td>\n",
              "      <td>CBD</td>\n",
              "      <td>NaN</td>\n",
              "      <td>NaN</td>\n",
              "      <td>NaN</td>\n",
              "      <td>PTQ</td>\n",
              "      <td>NaN</td>\n",
              "      <td>NaN</td>\n",
              "      <td>NaN</td>\n",
              "    </tr>\n",
              "  </tbody>\n",
              "</table>\n",
              "</div>"
            ],
            "text/plain": [
              "        date  season team1  ... aw_avg_diff  aw_avg_pts  aw_avg_against_pts\n",
              "0 1920-09-26    1920   RII  ...         NaN         NaN                 NaN\n",
              "1 1920-10-03    1920   RCH  ...         NaN         NaN                 NaN\n",
              "2 1920-10-03    1920   BFF  ...         NaN         NaN                 NaN\n",
              "3 1920-10-03    1920   AKR  ...         NaN         NaN                 NaN\n",
              "4 1920-10-03    1920   CBD  ...         NaN         NaN                 NaN\n",
              "\n",
              "[5 rows x 29 columns]"
            ]
          },
          "metadata": {
            "tags": []
          },
          "execution_count": 68
        }
      ]
    },
    {
      "cell_type": "code",
      "metadata": {
        "id": "c65f0cj7I_SE"
      },
      "source": [
        "train = df1.copy()\r\n",
        "test = df1.copy()\r\n",
        "train = train.loc[(train['season'] > 1949) & (train['season'] < 2017)]\r\n",
        "test = test.loc[test['season'] > 2016]"
      ],
      "execution_count": null,
      "outputs": []
    },
    {
      "cell_type": "code",
      "metadata": {
        "id": "KJUKWMWSKJ5e"
      },
      "source": [
        "train = train[train['hm_avg_diff'].notna()]\r\n",
        "train = train[train['aw_avg_diff'].notna()]\r\n",
        "train.isna().sum()"
      ],
      "execution_count": null,
      "outputs": []
    },
    {
      "cell_type": "code",
      "metadata": {
        "id": "t_t3A0IUJPKW"
      },
      "source": [
        "X_train=train[['qbelo1_pre','qbelo2_pre','qbelo_prob1','qb1_value_pre','qb2_value_pre','hm_avg_diff','aw_avg_diff']]\r\n",
        "y_train = train['result']\r\n",
        "\r\n",
        "X_test = test[['qbelo1_pre','qbelo2_pre','qbelo_prob1','qb1_value_pre','qb2_value_pre','hm_avg_diff','aw_avg_diff']]\r\n",
        "y_test = test['result']"
      ],
      "execution_count": null,
      "outputs": []
    },
    {
      "cell_type": "code",
      "metadata": {
        "id": "MaWKYZyvJ13k"
      },
      "source": [
        "from sklearn.ensemble import RandomForestRegressor\r\n",
        "RFG = RandomForestRegressor(n_estimators=100, random_state=42)"
      ],
      "execution_count": null,
      "outputs": []
    },
    {
      "cell_type": "code",
      "metadata": {
        "colab": {
          "base_uri": "https://localhost:8080/"
        },
        "id": "0Yc_U_q6KDet",
        "outputId": "18df53d6-40d4-4b48-bab3-c47ca03234bd"
      },
      "source": [
        "RFG.fit(X_train,y_train)"
      ],
      "execution_count": null,
      "outputs": [
        {
          "output_type": "execute_result",
          "data": {
            "text/plain": [
              "RandomForestRegressor(bootstrap=True, ccp_alpha=0.0, criterion='mse',\n",
              "                      max_depth=None, max_features='auto', max_leaf_nodes=None,\n",
              "                      max_samples=None, min_impurity_decrease=0.0,\n",
              "                      min_impurity_split=None, min_samples_leaf=1,\n",
              "                      min_samples_split=2, min_weight_fraction_leaf=0.0,\n",
              "                      n_estimators=100, n_jobs=None, oob_score=False,\n",
              "                      random_state=42, verbose=0, warm_start=False)"
            ]
          },
          "metadata": {
            "tags": []
          },
          "execution_count": 114
        }
      ]
    },
    {
      "cell_type": "markdown",
      "metadata": {
        "id": "4A2iGQz2irb5"
      },
      "source": [
        "##Evaluation"
      ]
    },
    {
      "cell_type": "code",
      "metadata": {
        "id": "mOkjFIAEKFtv"
      },
      "source": [
        "results = RFG.predict(X_test)"
      ],
      "execution_count": null,
      "outputs": []
    },
    {
      "cell_type": "code",
      "metadata": {
        "id": "PVbRnl8eKAM_"
      },
      "source": [
        "test.loc[:,'hm_prob'] = results\r\n",
        "test = test[['season', 'team1', 'team2', 'hm_prob', 'result']]\r\n",
        "# calulate bets won (only make a bet when probability is greater than/equal to 60% or less than/equal to 40%)\r\n",
        "test['my_bet_won'] = (((test.hm_prob >= 0.60) & (test.result == 1)) | ((test.hm_prob <= 0.40) & (test.result == 0))).astype(int)\r\n",
        "# calulate bets lost\r\n",
        "test['my_bet_lost'] = (((test.hm_prob >= 0.60) & (test.result == 0)) | ((test.hm_prob <= 0.40) & (test.result == 1))).astype(int)"
      ],
      "execution_count": null,
      "outputs": []
    },
    {
      "cell_type": "code",
      "metadata": {
        "colab": {
          "base_uri": "https://localhost:8080/"
        },
        "id": "eUeW-zpVJ9GP",
        "outputId": "fe7dd5ce-b157-4454-ceed-d66dbc458288"
      },
      "source": [
        "# printing some quick overall results for my model\r\n",
        "print(\"My Model Win Percentage: \" + \"{:.4f}\".format(test.my_bet_won.sum() / (test.my_bet_lost.sum() + test.my_bet_won.sum())))\r\n",
        "print(\"Total Number of Bets Won: \" + str(test.my_bet_won.sum()))\r\n",
        "print(\"Total Number of Bets Made: \" + str((test.my_bet_lost.sum() + test.my_bet_won.sum())))\r\n",
        "print(\"Possible Games: \" + str(len(test)))"
      ],
      "execution_count": null,
      "outputs": [
        {
          "output_type": "stream",
          "text": [
            "My Model Win Percentage: 0.6817\n",
            "Total Number of Bets Won: 452\n",
            "Total Number of Bets Made: 663\n",
            "Possible Games: 1057\n"
          ],
          "name": "stdout"
        }
      ]
    },
    {
      "cell_type": "code",
      "metadata": {
        "id": "JyfrC7y8Ln_U"
      },
      "source": [
        "#63.78 % win percentage without new feat\r\n",
        "#68.17 % win percentage qb_value_pre y qbelo_prob1. With new features, the model improved 5%. "
      ],
      "execution_count": null,
      "outputs": []
    },
    {
      "cell_type": "markdown",
      "metadata": {
        "id": "mx-b-RIE_rYt"
      },
      "source": [
        "##Evaluation with Scaled features"
      ]
    },
    {
      "cell_type": "code",
      "metadata": {
        "id": "TUpQvXZ5-_aF"
      },
      "source": [
        "from sklearn.preprocessing import StandardScaler\r\n",
        "\r\n",
        "ss=StandardScaler()\r\n",
        "ss2=StandardScaler()\r\n",
        "X_train_sc = ss.fit_transform(X_train)\r\n",
        "X_test_sc = ss2.fit_transform(X_test)"
      ],
      "execution_count": null,
      "outputs": []
    },
    {
      "cell_type": "code",
      "metadata": {
        "colab": {
          "base_uri": "https://localhost:8080/",
          "height": 197
        },
        "id": "0Wt47nvD--5I",
        "outputId": "62e3162a-af01-48af-ca33-6528081b202a"
      },
      "source": [
        "X_train_sc = pd.DataFrame(\r\n",
        "    X_train_sc,\r\n",
        "    columns=list(X_train.columns),\r\n",
        "    index=X_train.index)\r\n",
        "\r\n",
        "X_test_sc = pd.DataFrame(\r\n",
        "    X_test_sc,\r\n",
        "    columns=list(X_test.columns),\r\n",
        "    index=X_test.index)\r\n",
        "\r\n",
        "X_train_sc.head()"
      ],
      "execution_count": null,
      "outputs": [
        {
          "output_type": "execute_result",
          "data": {
            "text/html": [
              "<div>\n",
              "<style scoped>\n",
              "    .dataframe tbody tr th:only-of-type {\n",
              "        vertical-align: middle;\n",
              "    }\n",
              "\n",
              "    .dataframe tbody tr th {\n",
              "        vertical-align: top;\n",
              "    }\n",
              "\n",
              "    .dataframe thead th {\n",
              "        text-align: right;\n",
              "    }\n",
              "</style>\n",
              "<table border=\"1\" class=\"dataframe\">\n",
              "  <thead>\n",
              "    <tr style=\"text-align: right;\">\n",
              "      <th></th>\n",
              "      <th>qbelo1_pre</th>\n",
              "      <th>qbelo2_pre</th>\n",
              "      <th>qbelo_prob1</th>\n",
              "      <th>qb1_value_pre</th>\n",
              "      <th>qb2_value_pre</th>\n",
              "      <th>hm_avg_diff</th>\n",
              "      <th>aw_avg_diff</th>\n",
              "    </tr>\n",
              "  </thead>\n",
              "  <tbody>\n",
              "    <tr>\n",
              "      <th>2162</th>\n",
              "      <td>1.684760</td>\n",
              "      <td>1.423541</td>\n",
              "      <td>0.251768</td>\n",
              "      <td>-1.656434</td>\n",
              "      <td>-1.669764</td>\n",
              "      <td>2.140504</td>\n",
              "      <td>1.509183</td>\n",
              "    </tr>\n",
              "    <tr>\n",
              "      <th>2163</th>\n",
              "      <td>0.609986</td>\n",
              "      <td>1.265454</td>\n",
              "      <td>-0.483286</td>\n",
              "      <td>-1.656434</td>\n",
              "      <td>-1.669764</td>\n",
              "      <td>0.933782</td>\n",
              "      <td>1.029432</td>\n",
              "    </tr>\n",
              "    <tr>\n",
              "      <th>2164</th>\n",
              "      <td>-0.180561</td>\n",
              "      <td>-0.404399</td>\n",
              "      <td>0.207380</td>\n",
              "      <td>-1.656434</td>\n",
              "      <td>-1.669764</td>\n",
              "      <td>0.086727</td>\n",
              "      <td>-0.156394</td>\n",
              "    </tr>\n",
              "    <tr>\n",
              "      <th>2165</th>\n",
              "      <td>-1.490506</td>\n",
              "      <td>-0.532423</td>\n",
              "      <td>-0.741403</td>\n",
              "      <td>-1.656434</td>\n",
              "      <td>-1.669764</td>\n",
              "      <td>-2.060270</td>\n",
              "      <td>-0.260747</td>\n",
              "    </tr>\n",
              "    <tr>\n",
              "      <th>2166</th>\n",
              "      <td>0.869190</td>\n",
              "      <td>-1.820445</td>\n",
              "      <td>1.670122</td>\n",
              "      <td>-1.656434</td>\n",
              "      <td>-1.669764</td>\n",
              "      <td>1.504427</td>\n",
              "      <td>-2.091662</td>\n",
              "    </tr>\n",
              "  </tbody>\n",
              "</table>\n",
              "</div>"
            ],
            "text/plain": [
              "      qbelo1_pre  qbelo2_pre  ...  hm_avg_diff  aw_avg_diff\n",
              "2162    1.684760    1.423541  ...     2.140504     1.509183\n",
              "2163    0.609986    1.265454  ...     0.933782     1.029432\n",
              "2164   -0.180561   -0.404399  ...     0.086727    -0.156394\n",
              "2165   -1.490506   -0.532423  ...    -2.060270    -0.260747\n",
              "2166    0.869190   -1.820445  ...     1.504427    -2.091662\n",
              "\n",
              "[5 rows x 7 columns]"
            ]
          },
          "metadata": {
            "tags": []
          },
          "execution_count": 123
        }
      ]
    },
    {
      "cell_type": "code",
      "metadata": {
        "id": "l-lpEmbR-7vA"
      },
      "source": [
        "RFG_scaled = RandomForestRegressor(n_estimators=100, random_state=42)"
      ],
      "execution_count": null,
      "outputs": []
    },
    {
      "cell_type": "code",
      "metadata": {
        "colab": {
          "base_uri": "https://localhost:8080/"
        },
        "id": "sShtUM52ALlC",
        "outputId": "0460c6b5-ae14-48bb-eaf5-8c455081a44a"
      },
      "source": [
        "RFG_scaled.fit(X_train_sc,y_train)"
      ],
      "execution_count": null,
      "outputs": [
        {
          "output_type": "execute_result",
          "data": {
            "text/plain": [
              "RandomForestRegressor(bootstrap=True, ccp_alpha=0.0, criterion='mse',\n",
              "                      max_depth=None, max_features='auto', max_leaf_nodes=None,\n",
              "                      max_samples=None, min_impurity_decrease=0.0,\n",
              "                      min_impurity_split=None, min_samples_leaf=1,\n",
              "                      min_samples_split=2, min_weight_fraction_leaf=0.0,\n",
              "                      n_estimators=100, n_jobs=None, oob_score=False,\n",
              "                      random_state=42, verbose=0, warm_start=False)"
            ]
          },
          "metadata": {
            "tags": []
          },
          "execution_count": 126
        }
      ]
    },
    {
      "cell_type": "code",
      "metadata": {
        "id": "JOkrH6NU_Mso"
      },
      "source": [
        "results = RFG_scaled.predict(X_test_sc)"
      ],
      "execution_count": null,
      "outputs": []
    },
    {
      "cell_type": "code",
      "metadata": {
        "id": "Tt5ceDJf_O_x"
      },
      "source": [
        "test.loc[:,'hm_prob'] = results\r\n",
        "test = test[['season', 'team1', 'team2', 'hm_prob', 'result']]\r\n",
        "# calulate bets won (only make a bet when probability is greater than/equal to 60% or less than/equal to 40%)\r\n",
        "test['my_bet_won'] = (((test.hm_prob >= 0.60) & (test.result == 1)) | ((test.hm_prob <= 0.40) & (test.result == 0))).astype(int)\r\n",
        "# calulate bets lost\r\n",
        "test['my_bet_lost'] = (((test.hm_prob >= 0.60) & (test.result == 0)) | ((test.hm_prob <= 0.40) & (test.result == 1))).astype(int)"
      ],
      "execution_count": null,
      "outputs": []
    },
    {
      "cell_type": "code",
      "metadata": {
        "colab": {
          "base_uri": "https://localhost:8080/"
        },
        "id": "Vv3ywZbw_S3L",
        "outputId": "0a42bb8b-5c92-43e1-b990-ef5d66b7808d"
      },
      "source": [
        "# printing some quick overall results for my model\r\n",
        "print(\"My Model Win Percentage: \" + \"{:.4f}\".format(test.my_bet_won.sum() / (test.my_bet_lost.sum() + test.my_bet_won.sum())))\r\n",
        "print(\"Total Number of Bets Won: \" + str(test.my_bet_won.sum()))\r\n",
        "print(\"Total Number of Bets Made: \" + str((test.my_bet_lost.sum() + test.my_bet_won.sum())))\r\n",
        "print(\"Possible Games: \" + str(len(test)))"
      ],
      "execution_count": null,
      "outputs": [
        {
          "output_type": "stream",
          "text": [
            "My Model Win Percentage: 0.6807\n",
            "Total Number of Bets Won: 501\n",
            "Total Number of Bets Made: 736\n",
            "Possible Games: 1057\n"
          ],
          "name": "stdout"
        }
      ]
    },
    {
      "cell_type": "code",
      "metadata": {
        "id": "kMS4YzE8AXLg"
      },
      "source": [
        "#68.07 % win percentage with scaled features vs 68.17% without scaled features. "
      ],
      "execution_count": null,
      "outputs": []
    }
  ]
}